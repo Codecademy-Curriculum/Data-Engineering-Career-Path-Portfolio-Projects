{
 "cells": [
  {
   "cell_type": "markdown",
   "metadata": {
    "id": "oWWP6KUKfBqF"
   },
   "source": [
    "## Data Management Project Example"
   ]
  },
  {
   "cell_type": "markdown",
   "metadata": {
    "id": "BrJp8r2PfYKE"
   },
   "source": [
    "## Library and Data Imports"
   ]
  },
  {
   "cell_type": "code",
   "execution_count": 1,
   "metadata": {
    "id": "TYRaJOCAb1Jx"
   },
   "outputs": [],
   "source": [
    "import os\n",
    "import datetime\n",
    "import string\n",
    "\n",
    "import pandas as pd\n",
    "import numpy as np\n",
    "\n",
    "import sqlalchemy"
   ]
  },
  {
   "cell_type": "markdown",
   "metadata": {
    "id": "Tk84Q23sfqeU"
   },
   "source": [
    "## Citi Bike Data Overview"
   ]
  },
  {
   "cell_type": "markdown",
   "metadata": {},
   "source": [
    "The Citi Bike data is stored in monthly files. Let's read those in and concatenate them in a single dataframe."
   ]
  },
  {
   "cell_type": "code",
   "execution_count": 2,
   "metadata": {
    "id": "FgjeiB_Ag3D1"
   },
   "outputs": [],
   "source": [
    "df_bike = pd.DataFrame()"
   ]
  },
  {
   "cell_type": "code",
   "execution_count": 3,
   "metadata": {
    "id": "qZfG60hvg3D1"
   },
   "outputs": [],
   "source": [
    "# create unified dataframe\n",
    "for f in sorted(os.listdir('data')):\n",
    "    if f.startswith('JC'):\n",
    "        df_temp = pd.read_csv('data/' + f)\n",
    "        \n",
    "        df_bike = pd.concat([df_bike, df_temp], axis=0)\n",
    "\n",
    "# reset the index after concatenation\n",
    "df_bike.reset_index(drop=True, inplace=True)\n",
    "\n",
    "# add an ID column -- this will be useful for counts and eventually a primary key\n",
    "df_bike['id'] = df_bike.index"
   ]
  },
  {
   "cell_type": "markdown",
   "metadata": {
    "id": "zAk4mCY4wiQq"
   },
   "source": [
    "Let's visually inspect the beginning and end of the dataset"
   ]
  },
  {
   "cell_type": "code",
   "execution_count": 4,
   "metadata": {
    "colab": {
     "base_uri": "https://localhost:8080/",
     "height": 342
    },
    "id": "PCuYWq9sowMy",
    "outputId": "317d0b3d-88e2-46de-cb0f-c5a185641524"
   },
   "outputs": [
    {
     "data": {
      "text/html": [
       "<div>\n",
       "<style scoped>\n",
       "    .dataframe tbody tr th:only-of-type {\n",
       "        vertical-align: middle;\n",
       "    }\n",
       "\n",
       "    .dataframe tbody tr th {\n",
       "        vertical-align: top;\n",
       "    }\n",
       "\n",
       "    .dataframe thead th {\n",
       "        text-align: right;\n",
       "    }\n",
       "</style>\n",
       "<table border=\"1\" class=\"dataframe\">\n",
       "  <thead>\n",
       "    <tr style=\"text-align: right;\">\n",
       "      <th></th>\n",
       "      <th>Trip Duration</th>\n",
       "      <th>Start Time</th>\n",
       "      <th>Stop Time</th>\n",
       "      <th>Start Station ID</th>\n",
       "      <th>Start Station Name</th>\n",
       "      <th>Start Station Latitude</th>\n",
       "      <th>Start Station Longitude</th>\n",
       "      <th>End Station ID</th>\n",
       "      <th>End Station Name</th>\n",
       "      <th>End Station Latitude</th>\n",
       "      <th>End Station Longitude</th>\n",
       "      <th>Bike ID</th>\n",
       "      <th>User Type</th>\n",
       "      <th>Birth Year</th>\n",
       "      <th>Gender</th>\n",
       "      <th>id</th>\n",
       "    </tr>\n",
       "  </thead>\n",
       "  <tbody>\n",
       "    <tr>\n",
       "      <th>0</th>\n",
       "      <td>362</td>\n",
       "      <td>2016-01-01 00:02:52</td>\n",
       "      <td>2016-01-01 00:08:54</td>\n",
       "      <td>3186</td>\n",
       "      <td>Grove St PATH</td>\n",
       "      <td>40.719586</td>\n",
       "      <td>-74.043117</td>\n",
       "      <td>3209</td>\n",
       "      <td>Brunswick St</td>\n",
       "      <td>40.724176</td>\n",
       "      <td>-74.050656</td>\n",
       "      <td>24647</td>\n",
       "      <td>Subscriber</td>\n",
       "      <td>1964.0</td>\n",
       "      <td>2</td>\n",
       "      <td>0</td>\n",
       "    </tr>\n",
       "    <tr>\n",
       "      <th>1</th>\n",
       "      <td>200</td>\n",
       "      <td>2016-01-01 00:18:22</td>\n",
       "      <td>2016-01-01 00:21:42</td>\n",
       "      <td>3186</td>\n",
       "      <td>Grove St PATH</td>\n",
       "      <td>40.719586</td>\n",
       "      <td>-74.043117</td>\n",
       "      <td>3213</td>\n",
       "      <td>Van Vorst Park</td>\n",
       "      <td>40.718489</td>\n",
       "      <td>-74.047727</td>\n",
       "      <td>24605</td>\n",
       "      <td>Subscriber</td>\n",
       "      <td>1962.0</td>\n",
       "      <td>1</td>\n",
       "      <td>1</td>\n",
       "    </tr>\n",
       "    <tr>\n",
       "      <th>2</th>\n",
       "      <td>202</td>\n",
       "      <td>2016-01-01 00:18:25</td>\n",
       "      <td>2016-01-01 00:21:47</td>\n",
       "      <td>3186</td>\n",
       "      <td>Grove St PATH</td>\n",
       "      <td>40.719586</td>\n",
       "      <td>-74.043117</td>\n",
       "      <td>3213</td>\n",
       "      <td>Van Vorst Park</td>\n",
       "      <td>40.718489</td>\n",
       "      <td>-74.047727</td>\n",
       "      <td>24689</td>\n",
       "      <td>Subscriber</td>\n",
       "      <td>1962.0</td>\n",
       "      <td>2</td>\n",
       "      <td>2</td>\n",
       "    </tr>\n",
       "  </tbody>\n",
       "</table>\n",
       "</div>"
      ],
      "text/plain": [
       "   Trip Duration           Start Time            Stop Time  Start Station ID  \\\n",
       "0            362  2016-01-01 00:02:52  2016-01-01 00:08:54              3186   \n",
       "1            200  2016-01-01 00:18:22  2016-01-01 00:21:42              3186   \n",
       "2            202  2016-01-01 00:18:25  2016-01-01 00:21:47              3186   \n",
       "\n",
       "  Start Station Name  Start Station Latitude  Start Station Longitude  \\\n",
       "0      Grove St PATH               40.719586               -74.043117   \n",
       "1      Grove St PATH               40.719586               -74.043117   \n",
       "2      Grove St PATH               40.719586               -74.043117   \n",
       "\n",
       "   End Station ID End Station Name  End Station Latitude  \\\n",
       "0            3209     Brunswick St             40.724176   \n",
       "1            3213   Van Vorst Park             40.718489   \n",
       "2            3213   Van Vorst Park             40.718489   \n",
       "\n",
       "   End Station Longitude  Bike ID   User Type  Birth Year  Gender  id  \n",
       "0             -74.050656    24647  Subscriber      1964.0       2   0  \n",
       "1             -74.047727    24605  Subscriber      1962.0       1   1  \n",
       "2             -74.047727    24689  Subscriber      1962.0       2   2  "
      ]
     },
     "execution_count": 4,
     "metadata": {},
     "output_type": "execute_result"
    }
   ],
   "source": [
    "df_bike.head(3)"
   ]
  },
  {
   "cell_type": "code",
   "execution_count": 5,
   "metadata": {
    "colab": {
     "base_uri": "https://localhost:8080/",
     "height": 472
    },
    "id": "yO-MzefCpSrJ",
    "outputId": "a04f0fe1-5b55-4bd1-edd8-29f795d931a1",
    "scrolled": true
   },
   "outputs": [
    {
     "data": {
      "text/html": [
       "<div>\n",
       "<style scoped>\n",
       "    .dataframe tbody tr th:only-of-type {\n",
       "        vertical-align: middle;\n",
       "    }\n",
       "\n",
       "    .dataframe tbody tr th {\n",
       "        vertical-align: top;\n",
       "    }\n",
       "\n",
       "    .dataframe thead th {\n",
       "        text-align: right;\n",
       "    }\n",
       "</style>\n",
       "<table border=\"1\" class=\"dataframe\">\n",
       "  <thead>\n",
       "    <tr style=\"text-align: right;\">\n",
       "      <th></th>\n",
       "      <th>Trip Duration</th>\n",
       "      <th>Start Time</th>\n",
       "      <th>Stop Time</th>\n",
       "      <th>Start Station ID</th>\n",
       "      <th>Start Station Name</th>\n",
       "      <th>Start Station Latitude</th>\n",
       "      <th>Start Station Longitude</th>\n",
       "      <th>End Station ID</th>\n",
       "      <th>End Station Name</th>\n",
       "      <th>End Station Latitude</th>\n",
       "      <th>End Station Longitude</th>\n",
       "      <th>Bike ID</th>\n",
       "      <th>User Type</th>\n",
       "      <th>Birth Year</th>\n",
       "      <th>Gender</th>\n",
       "      <th>id</th>\n",
       "    </tr>\n",
       "  </thead>\n",
       "  <tbody>\n",
       "    <tr>\n",
       "      <th>247581</th>\n",
       "      <td>173</td>\n",
       "      <td>2016-12-31 23:44:37</td>\n",
       "      <td>2016-12-31 23:47:31</td>\n",
       "      <td>3186</td>\n",
       "      <td>Grove St PATH</td>\n",
       "      <td>40.719586</td>\n",
       "      <td>-74.043117</td>\n",
       "      <td>3270</td>\n",
       "      <td>Jersey &amp; 6th St</td>\n",
       "      <td>40.725289</td>\n",
       "      <td>-74.045572</td>\n",
       "      <td>24641</td>\n",
       "      <td>Subscriber</td>\n",
       "      <td>1978.0</td>\n",
       "      <td>1</td>\n",
       "      <td>247581</td>\n",
       "    </tr>\n",
       "    <tr>\n",
       "      <th>247582</th>\n",
       "      <td>2424</td>\n",
       "      <td>2016-12-31 23:44:50</td>\n",
       "      <td>2017-01-01 00:25:14</td>\n",
       "      <td>3214</td>\n",
       "      <td>Essex Light Rail</td>\n",
       "      <td>40.712774</td>\n",
       "      <td>-74.036486</td>\n",
       "      <td>3214</td>\n",
       "      <td>Essex Light Rail</td>\n",
       "      <td>40.712774</td>\n",
       "      <td>-74.036486</td>\n",
       "      <td>26219</td>\n",
       "      <td>Subscriber</td>\n",
       "      <td>1960.0</td>\n",
       "      <td>2</td>\n",
       "      <td>247582</td>\n",
       "    </tr>\n",
       "    <tr>\n",
       "      <th>247583</th>\n",
       "      <td>2419</td>\n",
       "      <td>2016-12-31 23:44:50</td>\n",
       "      <td>2017-01-01 00:25:10</td>\n",
       "      <td>3214</td>\n",
       "      <td>Essex Light Rail</td>\n",
       "      <td>40.712774</td>\n",
       "      <td>-74.036486</td>\n",
       "      <td>3214</td>\n",
       "      <td>Essex Light Rail</td>\n",
       "      <td>40.712774</td>\n",
       "      <td>-74.036486</td>\n",
       "      <td>24471</td>\n",
       "      <td>Subscriber</td>\n",
       "      <td>1956.0</td>\n",
       "      <td>1</td>\n",
       "      <td>247583</td>\n",
       "    </tr>\n",
       "  </tbody>\n",
       "</table>\n",
       "</div>"
      ],
      "text/plain": [
       "        Trip Duration           Start Time            Stop Time  \\\n",
       "247581            173  2016-12-31 23:44:37  2016-12-31 23:47:31   \n",
       "247582           2424  2016-12-31 23:44:50  2017-01-01 00:25:14   \n",
       "247583           2419  2016-12-31 23:44:50  2017-01-01 00:25:10   \n",
       "\n",
       "        Start Station ID Start Station Name  Start Station Latitude  \\\n",
       "247581              3186      Grove St PATH               40.719586   \n",
       "247582              3214   Essex Light Rail               40.712774   \n",
       "247583              3214   Essex Light Rail               40.712774   \n",
       "\n",
       "        Start Station Longitude  End Station ID  End Station Name  \\\n",
       "247581               -74.043117            3270   Jersey & 6th St   \n",
       "247582               -74.036486            3214  Essex Light Rail   \n",
       "247583               -74.036486            3214  Essex Light Rail   \n",
       "\n",
       "        End Station Latitude  End Station Longitude  Bike ID   User Type  \\\n",
       "247581             40.725289             -74.045572    24641  Subscriber   \n",
       "247582             40.712774             -74.036486    26219  Subscriber   \n",
       "247583             40.712774             -74.036486    24471  Subscriber   \n",
       "\n",
       "        Birth Year  Gender      id  \n",
       "247581      1978.0       1  247581  \n",
       "247582      1960.0       2  247582  \n",
       "247583      1956.0       1  247583  "
      ]
     },
     "execution_count": 5,
     "metadata": {},
     "output_type": "execute_result"
    }
   ],
   "source": [
    "df_bike.tail(3)"
   ]
  },
  {
   "cell_type": "markdown",
   "metadata": {
    "id": "6n1XRwuiwzzu"
   },
   "source": [
    "Some initial observations:\n",
    "- there are about 250k records (since we reset the index, this can be read from the index)\n",
    "- checking the data dictionary:\n",
    "    - `Trip Duration` is in seconds\n",
    "    - `Gender` can be `0=unknown`, `1=male`, and `2=female`\n",
    "    - `User Type` has values `Customer=24 hour pass or 3 day user` and `Subscriber=Annual Member`"
   ]
  },
  {
   "cell_type": "markdown",
   "metadata": {
    "id": "BkhiClZUxCTP"
   },
   "source": [
    "Let's continue exploring by looking at numeric fields using `.describe()`"
   ]
  },
  {
   "cell_type": "code",
   "execution_count": 6,
   "metadata": {
    "colab": {
     "base_uri": "https://localhost:8080/",
     "height": 395
    },
    "id": "E5jE6836fK_2",
    "outputId": "79cfa8c7-3328-430e-807a-371f53c446be"
   },
   "outputs": [
    {
     "data": {
      "text/html": [
       "<div>\n",
       "<style scoped>\n",
       "    .dataframe tbody tr th:only-of-type {\n",
       "        vertical-align: middle;\n",
       "    }\n",
       "\n",
       "    .dataframe tbody tr th {\n",
       "        vertical-align: top;\n",
       "    }\n",
       "\n",
       "    .dataframe thead th {\n",
       "        text-align: right;\n",
       "    }\n",
       "</style>\n",
       "<table border=\"1\" class=\"dataframe\">\n",
       "  <thead>\n",
       "    <tr style=\"text-align: right;\">\n",
       "      <th></th>\n",
       "      <th>Trip Duration</th>\n",
       "      <th>Start Station ID</th>\n",
       "      <th>Start Station Latitude</th>\n",
       "      <th>Start Station Longitude</th>\n",
       "      <th>End Station ID</th>\n",
       "      <th>End Station Latitude</th>\n",
       "      <th>End Station Longitude</th>\n",
       "      <th>Bike ID</th>\n",
       "      <th>Birth Year</th>\n",
       "      <th>Gender</th>\n",
       "      <th>id</th>\n",
       "    </tr>\n",
       "  </thead>\n",
       "  <tbody>\n",
       "    <tr>\n",
       "      <th>count</th>\n",
       "      <td>2.475840e+05</td>\n",
       "      <td>247584.000000</td>\n",
       "      <td>247584.000000</td>\n",
       "      <td>247584.000000</td>\n",
       "      <td>247584.000000</td>\n",
       "      <td>247584.000000</td>\n",
       "      <td>247584.000000</td>\n",
       "      <td>247584.000000</td>\n",
       "      <td>228585.000000</td>\n",
       "      <td>247584.000000</td>\n",
       "      <td>247584.000000</td>\n",
       "    </tr>\n",
       "    <tr>\n",
       "      <th>mean</th>\n",
       "      <td>8.856305e+02</td>\n",
       "      <td>3207.065206</td>\n",
       "      <td>40.723121</td>\n",
       "      <td>-74.046438</td>\n",
       "      <td>3203.572553</td>\n",
       "      <td>40.722594</td>\n",
       "      <td>-74.045855</td>\n",
       "      <td>24935.260481</td>\n",
       "      <td>1979.335276</td>\n",
       "      <td>1.123534</td>\n",
       "      <td>123791.500000</td>\n",
       "    </tr>\n",
       "    <tr>\n",
       "      <th>std</th>\n",
       "      <td>3.593798e+04</td>\n",
       "      <td>26.955103</td>\n",
       "      <td>0.008199</td>\n",
       "      <td>0.011211</td>\n",
       "      <td>61.579494</td>\n",
       "      <td>0.007958</td>\n",
       "      <td>0.011283</td>\n",
       "      <td>748.469712</td>\n",
       "      <td>9.596809</td>\n",
       "      <td>0.518687</td>\n",
       "      <td>71471.488861</td>\n",
       "    </tr>\n",
       "    <tr>\n",
       "      <th>min</th>\n",
       "      <td>6.100000e+01</td>\n",
       "      <td>3183.000000</td>\n",
       "      <td>40.692640</td>\n",
       "      <td>-74.096937</td>\n",
       "      <td>147.000000</td>\n",
       "      <td>40.692216</td>\n",
       "      <td>-74.096937</td>\n",
       "      <td>14552.000000</td>\n",
       "      <td>1900.000000</td>\n",
       "      <td>0.000000</td>\n",
       "      <td>0.000000</td>\n",
       "    </tr>\n",
       "    <tr>\n",
       "      <th>25%</th>\n",
       "      <td>2.480000e+02</td>\n",
       "      <td>3186.000000</td>\n",
       "      <td>40.717732</td>\n",
       "      <td>-74.050656</td>\n",
       "      <td>3186.000000</td>\n",
       "      <td>40.716540</td>\n",
       "      <td>-74.050444</td>\n",
       "      <td>24491.000000</td>\n",
       "      <td>1974.000000</td>\n",
       "      <td>1.000000</td>\n",
       "      <td>61895.750000</td>\n",
       "    </tr>\n",
       "    <tr>\n",
       "      <th>50%</th>\n",
       "      <td>3.900000e+02</td>\n",
       "      <td>3201.000000</td>\n",
       "      <td>40.721525</td>\n",
       "      <td>-74.044247</td>\n",
       "      <td>3199.000000</td>\n",
       "      <td>40.721124</td>\n",
       "      <td>-74.043117</td>\n",
       "      <td>24609.000000</td>\n",
       "      <td>1981.000000</td>\n",
       "      <td>1.000000</td>\n",
       "      <td>123791.500000</td>\n",
       "    </tr>\n",
       "    <tr>\n",
       "      <th>75%</th>\n",
       "      <td>6.660000e+02</td>\n",
       "      <td>3211.000000</td>\n",
       "      <td>40.727596</td>\n",
       "      <td>-74.038051</td>\n",
       "      <td>3211.000000</td>\n",
       "      <td>40.727224</td>\n",
       "      <td>-74.036486</td>\n",
       "      <td>24719.000000</td>\n",
       "      <td>1986.000000</td>\n",
       "      <td>1.000000</td>\n",
       "      <td>185687.250000</td>\n",
       "    </tr>\n",
       "    <tr>\n",
       "      <th>max</th>\n",
       "      <td>1.632981e+07</td>\n",
       "      <td>3426.000000</td>\n",
       "      <td>40.752559</td>\n",
       "      <td>-74.032108</td>\n",
       "      <td>3426.000000</td>\n",
       "      <td>40.801343</td>\n",
       "      <td>-73.957390</td>\n",
       "      <td>27274.000000</td>\n",
       "      <td>2000.000000</td>\n",
       "      <td>2.000000</td>\n",
       "      <td>247583.000000</td>\n",
       "    </tr>\n",
       "  </tbody>\n",
       "</table>\n",
       "</div>"
      ],
      "text/plain": [
       "       Trip Duration  Start Station ID  Start Station Latitude  \\\n",
       "count   2.475840e+05     247584.000000           247584.000000   \n",
       "mean    8.856305e+02       3207.065206               40.723121   \n",
       "std     3.593798e+04         26.955103                0.008199   \n",
       "min     6.100000e+01       3183.000000               40.692640   \n",
       "25%     2.480000e+02       3186.000000               40.717732   \n",
       "50%     3.900000e+02       3201.000000               40.721525   \n",
       "75%     6.660000e+02       3211.000000               40.727596   \n",
       "max     1.632981e+07       3426.000000               40.752559   \n",
       "\n",
       "       Start Station Longitude  End Station ID  End Station Latitude  \\\n",
       "count            247584.000000   247584.000000         247584.000000   \n",
       "mean                -74.046438     3203.572553             40.722594   \n",
       "std                   0.011211       61.579494              0.007958   \n",
       "min                 -74.096937      147.000000             40.692216   \n",
       "25%                 -74.050656     3186.000000             40.716540   \n",
       "50%                 -74.044247     3199.000000             40.721124   \n",
       "75%                 -74.038051     3211.000000             40.727224   \n",
       "max                 -74.032108     3426.000000             40.801343   \n",
       "\n",
       "       End Station Longitude        Bike ID     Birth Year         Gender  \\\n",
       "count          247584.000000  247584.000000  228585.000000  247584.000000   \n",
       "mean              -74.045855   24935.260481    1979.335276       1.123534   \n",
       "std                 0.011283     748.469712       9.596809       0.518687   \n",
       "min               -74.096937   14552.000000    1900.000000       0.000000   \n",
       "25%               -74.050444   24491.000000    1974.000000       1.000000   \n",
       "50%               -74.043117   24609.000000    1981.000000       1.000000   \n",
       "75%               -74.036486   24719.000000    1986.000000       1.000000   \n",
       "max               -73.957390   27274.000000    2000.000000       2.000000   \n",
       "\n",
       "                  id  \n",
       "count  247584.000000  \n",
       "mean   123791.500000  \n",
       "std     71471.488861  \n",
       "min         0.000000  \n",
       "25%     61895.750000  \n",
       "50%    123791.500000  \n",
       "75%    185687.250000  \n",
       "max    247583.000000  "
      ]
     },
     "execution_count": 6,
     "metadata": {},
     "output_type": "execute_result"
    }
   ],
   "source": [
    "df_bike.describe()"
   ]
  },
  {
   "cell_type": "markdown",
   "metadata": {
    "id": "D75MjCBRg3D3"
   },
   "source": [
    "A couple observations:\n",
    "- `Trip Duration` jumps five orders of magnitude from the 75th percentile to the maximum\n",
    "- `Birth Year` has a minimum value of 1900, which would correspond to an age of 116\n",
    "\n",
    "It also looks like `Birth Year` might be missing some values -- let's check next for missing values and duplicated rows."
   ]
  },
  {
   "cell_type": "code",
   "execution_count": 7,
   "metadata": {
    "colab": {
     "base_uri": "https://localhost:8080/"
    },
    "id": "4CwkTmRViZY1",
    "outputId": "4b2c07d2-a1be-48b0-aba5-b9f07ef6f2ef"
   },
   "outputs": [
    {
     "data": {
      "text/plain": [
       "Trip Duration                  0\n",
       "Start Time                     0\n",
       "Stop Time                      0\n",
       "Start Station ID               0\n",
       "Start Station Name             0\n",
       "Start Station Latitude         0\n",
       "Start Station Longitude        0\n",
       "End Station ID                 0\n",
       "End Station Name               0\n",
       "End Station Latitude           0\n",
       "End Station Longitude          0\n",
       "Bike ID                        0\n",
       "User Type                    380\n",
       "Birth Year                 18999\n",
       "Gender                         0\n",
       "id                             0\n",
       "dtype: int64"
      ]
     },
     "execution_count": 7,
     "metadata": {},
     "output_type": "execute_result"
    }
   ],
   "source": [
    "# checking for missing values\n",
    "df_bike.isna().sum()"
   ]
  },
  {
   "cell_type": "code",
   "execution_count": 8,
   "metadata": {
    "colab": {
     "base_uri": "https://localhost:8080/"
    },
    "id": "aEGiqDYKOjZD",
    "outputId": "49103dcc-f69d-44c7-a525-6e2f443ad20a"
   },
   "outputs": [
    {
     "data": {
      "text/plain": [
       "0"
      ]
     },
     "execution_count": 8,
     "metadata": {},
     "output_type": "execute_result"
    }
   ],
   "source": [
    "df_bike.duplicated().sum()"
   ]
  },
  {
   "cell_type": "markdown",
   "metadata": {
    "id": "YP_ySVSuGBNL"
   },
   "source": [
    "We'll need to investigate both `User Type` and `Birth Year` to see what data is missing. We'll also want to look into `Gender` -- there's no missing data, but we know from the dictionary that `0` corresponds to `Unknown`.\n",
    "\n",
    "For now, let's finish initial exploration by checking data types (below). It looks like `Start Time` and `Stop Time` need to be datetimes, which we can fix now. Other incorrect data types, like `Birth Year`, will have to wait until we look at NaNs."
   ]
  },
  {
   "cell_type": "code",
   "execution_count": 9,
   "metadata": {
    "colab": {
     "base_uri": "https://localhost:8080/"
    },
    "id": "bODa8WsifReh",
    "outputId": "29a28f47-1a31-4985-fe07-e2ab5b7102de",
    "scrolled": true
   },
   "outputs": [
    {
     "data": {
      "text/plain": [
       "Trip Duration                int64\n",
       "Start Time                  object\n",
       "Stop Time                   object\n",
       "Start Station ID             int64\n",
       "Start Station Name          object\n",
       "Start Station Latitude     float64\n",
       "Start Station Longitude    float64\n",
       "End Station ID               int64\n",
       "End Station Name            object\n",
       "End Station Latitude       float64\n",
       "End Station Longitude      float64\n",
       "Bike ID                      int64\n",
       "User Type                   object\n",
       "Birth Year                 float64\n",
       "Gender                       int64\n",
       "id                           int64\n",
       "dtype: object"
      ]
     },
     "execution_count": 9,
     "metadata": {},
     "output_type": "execute_result"
    }
   ],
   "source": [
    "df_bike.dtypes"
   ]
  },
  {
   "cell_type": "code",
   "execution_count": 10,
   "metadata": {},
   "outputs": [
    {
     "data": {
      "text/plain": [
       "Trip Duration                       int64\n",
       "Start Time                 datetime64[ns]\n",
       "Stop Time                  datetime64[ns]\n",
       "Start Station ID                    int64\n",
       "Start Station Name                 object\n",
       "Start Station Latitude            float64\n",
       "Start Station Longitude           float64\n",
       "End Station ID                      int64\n",
       "End Station Name                   object\n",
       "End Station Latitude              float64\n",
       "End Station Longitude             float64\n",
       "Bike ID                             int64\n",
       "User Type                          object\n",
       "Birth Year                        float64\n",
       "Gender                              int64\n",
       "id                                  int64\n",
       "dtype: object"
      ]
     },
     "execution_count": 10,
     "metadata": {},
     "output_type": "execute_result"
    }
   ],
   "source": [
    "# casting objects as timestamps\n",
    "df_bike['Start Time'] = pd.to_datetime(df_bike['Start Time'],infer_datetime_format=True)\n",
    "df_bike['Stop Time'] = pd.to_datetime(df_bike['Stop Time'],infer_datetime_format=True)\n",
    "df_bike.dtypes"
   ]
  },
  {
   "cell_type": "markdown",
   "metadata": {
    "id": "twnXFWWdgJZq"
   },
   "source": [
    "## Cleaning and Transforming Citibike Data"
   ]
  },
  {
   "cell_type": "markdown",
   "metadata": {},
   "source": [
    "Columns to investigate further:\n",
    "- `Birth Year` (suspiciously small minimum, missing data)\n",
    "- `User Type` (missing data)\n",
    "- `Trip Duration` (suspiciously large maximum)\n",
    "- `Gender` (what are the unknowns)\n",
    "\n",
    "First some housekeeping to remove spaces and uppercase letters from the column names."
   ]
  },
  {
   "cell_type": "code",
   "execution_count": 11,
   "metadata": {
    "id": "0PvtCh2lidKL"
   },
   "outputs": [],
   "source": [
    "# updating column names\n",
    "df_bike.columns = [x.replace(' ','_').lower() for x in df_bike.columns]"
   ]
  },
  {
   "cell_type": "markdown",
   "metadata": {
    "id": "FjV3ePGlGcbM"
   },
   "source": [
    "### `birth_year`\n",
    "Let's calculate an approximate age (which might be easier to use) and investigate the large outlier."
   ]
  },
  {
   "cell_type": "code",
   "execution_count": 12,
   "metadata": {
    "id": "WQZgNeDKg3D5"
   },
   "outputs": [
    {
     "data": {
      "text/plain": [
       "215055    116.0\n",
       "136211     82.0\n",
       "164274     79.0\n",
       "187190     79.0\n",
       "180373     79.0\n",
       "213567     79.0\n",
       "177320     76.0\n",
       "112336     76.0\n",
       "149803     76.0\n",
       "124501     75.0\n",
       "Name: age, dtype: float64"
      ]
     },
     "execution_count": 12,
     "metadata": {},
     "output_type": "execute_result"
    }
   ],
   "source": [
    "df_bike['age'] = 2016 - df_bike['birth_year'].values\n",
    "df_bike['age'].sort_values(ascending=False)[:10]"
   ]
  },
  {
   "cell_type": "markdown",
   "metadata": {
    "id": "_WXA46NvGzP8"
   },
   "source": [
    "It looks like there's a single outlier of 116. We'll remove that from the dataset, since it will alter statistical analyses and we're not expecting other riders with that age."
   ]
  },
  {
   "cell_type": "code",
   "execution_count": 13,
   "metadata": {
    "id": "2mdN9JR0g3D5"
   },
   "outputs": [],
   "source": [
    "df_bike.drop([215055], inplace=True)"
   ]
  },
  {
   "cell_type": "markdown",
   "metadata": {},
   "source": [
    "Next, let's look at the missing data in `birth_year`."
   ]
  },
  {
   "cell_type": "code",
   "execution_count": 14,
   "metadata": {},
   "outputs": [
    {
     "data": {
      "text/html": [
       "<div>\n",
       "<style scoped>\n",
       "    .dataframe tbody tr th:only-of-type {\n",
       "        vertical-align: middle;\n",
       "    }\n",
       "\n",
       "    .dataframe tbody tr th {\n",
       "        vertical-align: top;\n",
       "    }\n",
       "\n",
       "    .dataframe thead th {\n",
       "        text-align: right;\n",
       "    }\n",
       "</style>\n",
       "<table border=\"1\" class=\"dataframe\">\n",
       "  <thead>\n",
       "    <tr style=\"text-align: right;\">\n",
       "      <th></th>\n",
       "      <th>trip_duration</th>\n",
       "      <th>start_time</th>\n",
       "      <th>stop_time</th>\n",
       "      <th>start_station_id</th>\n",
       "      <th>start_station_name</th>\n",
       "      <th>start_station_latitude</th>\n",
       "      <th>start_station_longitude</th>\n",
       "      <th>end_station_id</th>\n",
       "      <th>end_station_name</th>\n",
       "      <th>end_station_latitude</th>\n",
       "      <th>end_station_longitude</th>\n",
       "      <th>bike_id</th>\n",
       "      <th>user_type</th>\n",
       "      <th>birth_year</th>\n",
       "      <th>gender</th>\n",
       "      <th>id</th>\n",
       "      <th>age</th>\n",
       "    </tr>\n",
       "  </thead>\n",
       "  <tbody>\n",
       "    <tr>\n",
       "      <th>4</th>\n",
       "      <td>903</td>\n",
       "      <td>2016-01-01 01:03:20</td>\n",
       "      <td>2016-01-01 01:18:24</td>\n",
       "      <td>3195</td>\n",
       "      <td>Sip Ave</td>\n",
       "      <td>40.730743</td>\n",
       "      <td>-74.063784</td>\n",
       "      <td>3210</td>\n",
       "      <td>Pershing Field</td>\n",
       "      <td>40.742677</td>\n",
       "      <td>-74.051789</td>\n",
       "      <td>24573</td>\n",
       "      <td>Customer</td>\n",
       "      <td>NaN</td>\n",
       "      <td>0</td>\n",
       "      <td>4</td>\n",
       "      <td>NaN</td>\n",
       "    </tr>\n",
       "    <tr>\n",
       "      <th>5</th>\n",
       "      <td>883</td>\n",
       "      <td>2016-01-01 01:03:28</td>\n",
       "      <td>2016-01-01 01:18:11</td>\n",
       "      <td>3195</td>\n",
       "      <td>Sip Ave</td>\n",
       "      <td>40.730743</td>\n",
       "      <td>-74.063784</td>\n",
       "      <td>3210</td>\n",
       "      <td>Pershing Field</td>\n",
       "      <td>40.742677</td>\n",
       "      <td>-74.051789</td>\n",
       "      <td>24442</td>\n",
       "      <td>Customer</td>\n",
       "      <td>NaN</td>\n",
       "      <td>0</td>\n",
       "      <td>5</td>\n",
       "      <td>NaN</td>\n",
       "    </tr>\n",
       "    <tr>\n",
       "      <th>22</th>\n",
       "      <td>988</td>\n",
       "      <td>2016-01-01 03:16:33</td>\n",
       "      <td>2016-01-01 03:33:02</td>\n",
       "      <td>3196</td>\n",
       "      <td>Riverview Park</td>\n",
       "      <td>40.744319</td>\n",
       "      <td>-74.043991</td>\n",
       "      <td>3209</td>\n",
       "      <td>Brunswick St</td>\n",
       "      <td>40.724176</td>\n",
       "      <td>-74.050656</td>\n",
       "      <td>24662</td>\n",
       "      <td>Customer</td>\n",
       "      <td>NaN</td>\n",
       "      <td>0</td>\n",
       "      <td>22</td>\n",
       "      <td>NaN</td>\n",
       "    </tr>\n",
       "    <tr>\n",
       "      <th>53</th>\n",
       "      <td>3090</td>\n",
       "      <td>2016-01-01 11:07:15</td>\n",
       "      <td>2016-01-01 11:58:46</td>\n",
       "      <td>3203</td>\n",
       "      <td>Hamilton Park</td>\n",
       "      <td>40.727596</td>\n",
       "      <td>-74.044247</td>\n",
       "      <td>3203</td>\n",
       "      <td>Hamilton Park</td>\n",
       "      <td>40.727596</td>\n",
       "      <td>-74.044247</td>\n",
       "      <td>24444</td>\n",
       "      <td>Customer</td>\n",
       "      <td>NaN</td>\n",
       "      <td>0</td>\n",
       "      <td>53</td>\n",
       "      <td>NaN</td>\n",
       "    </tr>\n",
       "    <tr>\n",
       "      <th>57</th>\n",
       "      <td>788</td>\n",
       "      <td>2016-01-01 11:50:30</td>\n",
       "      <td>2016-01-01 12:03:39</td>\n",
       "      <td>3210</td>\n",
       "      <td>Pershing Field</td>\n",
       "      <td>40.742677</td>\n",
       "      <td>-74.051789</td>\n",
       "      <td>3195</td>\n",
       "      <td>Sip Ave</td>\n",
       "      <td>40.730743</td>\n",
       "      <td>-74.063784</td>\n",
       "      <td>24573</td>\n",
       "      <td>Customer</td>\n",
       "      <td>NaN</td>\n",
       "      <td>0</td>\n",
       "      <td>57</td>\n",
       "      <td>NaN</td>\n",
       "    </tr>\n",
       "  </tbody>\n",
       "</table>\n",
       "</div>"
      ],
      "text/plain": [
       "    trip_duration          start_time           stop_time  start_station_id  \\\n",
       "4             903 2016-01-01 01:03:20 2016-01-01 01:18:24              3195   \n",
       "5             883 2016-01-01 01:03:28 2016-01-01 01:18:11              3195   \n",
       "22            988 2016-01-01 03:16:33 2016-01-01 03:33:02              3196   \n",
       "53           3090 2016-01-01 11:07:15 2016-01-01 11:58:46              3203   \n",
       "57            788 2016-01-01 11:50:30 2016-01-01 12:03:39              3210   \n",
       "\n",
       "   start_station_name  start_station_latitude  start_station_longitude  \\\n",
       "4             Sip Ave               40.730743               -74.063784   \n",
       "5             Sip Ave               40.730743               -74.063784   \n",
       "22     Riverview Park               40.744319               -74.043991   \n",
       "53      Hamilton Park               40.727596               -74.044247   \n",
       "57     Pershing Field               40.742677               -74.051789   \n",
       "\n",
       "    end_station_id end_station_name  end_station_latitude  \\\n",
       "4             3210   Pershing Field             40.742677   \n",
       "5             3210   Pershing Field             40.742677   \n",
       "22            3209     Brunswick St             40.724176   \n",
       "53            3203    Hamilton Park             40.727596   \n",
       "57            3195          Sip Ave             40.730743   \n",
       "\n",
       "    end_station_longitude  bike_id user_type  birth_year  gender  id  age  \n",
       "4              -74.051789    24573  Customer         NaN       0   4  NaN  \n",
       "5              -74.051789    24442  Customer         NaN       0   5  NaN  \n",
       "22             -74.050656    24662  Customer         NaN       0  22  NaN  \n",
       "53             -74.044247    24444  Customer         NaN       0  53  NaN  \n",
       "57             -74.063784    24573  Customer         NaN       0  57  NaN  "
      ]
     },
     "execution_count": 14,
     "metadata": {},
     "output_type": "execute_result"
    }
   ],
   "source": [
    "missing_birth_year = df_bike[df_bike[['birth_year']].isnull().any(axis=1)]\n",
    "missing_birth_year.head()"
   ]
  },
  {
   "cell_type": "markdown",
   "metadata": {},
   "source": [
    "A couple observations:\n",
    "- the first five are all customers\n",
    "- the first five all have unknown gender\n",
    "\n",
    "Let's check if that pattern holds up:"
   ]
  },
  {
   "cell_type": "code",
   "execution_count": 15,
   "metadata": {},
   "outputs": [
    {
     "data": {
      "text/plain": [
       "Customer      15470\n",
       "Subscriber     3529\n",
       "Name: user_type, dtype: int64"
      ]
     },
     "execution_count": 15,
     "metadata": {},
     "output_type": "execute_result"
    }
   ],
   "source": [
    "missing_birth_year['user_type'].value_counts(dropna=False)"
   ]
  },
  {
   "cell_type": "code",
   "execution_count": 16,
   "metadata": {},
   "outputs": [
    {
     "data": {
      "text/plain": [
       "0    18999\n",
       "Name: gender, dtype: int64"
      ]
     },
     "execution_count": 16,
     "metadata": {},
     "output_type": "execute_result"
    }
   ],
   "source": [
    "missing_birth_year['gender'].value_counts()"
   ]
  },
  {
   "cell_type": "markdown",
   "metadata": {},
   "source": [
    "Observations:\n",
    "- all records with missing `birth_year` also have unknown `gender`\n",
    "- the customer `user_type` seems to be missing a lot of `birth_year` data\n",
    "\n",
    "Let's check the percentages for `user_type`:"
   ]
  },
  {
   "cell_type": "code",
   "execution_count": 17,
   "metadata": {},
   "outputs": [
    {
     "data": {
      "text/plain": [
       "Customer      0.996714\n",
       "Subscriber    0.015232\n",
       "Name: user_type, dtype: float64"
      ]
     },
     "execution_count": 17,
     "metadata": {},
     "output_type": "execute_result"
    }
   ],
   "source": [
    "missing_birth_year['user_type'].value_counts() / df_bike['user_type'].value_counts()"
   ]
  },
  {
   "cell_type": "markdown",
   "metadata": {},
   "source": [
    "Observations:\n",
    "- 99\\% of customers are missing `birth_year`\n",
    "- 1.5\\% of subscribers are missing `birth_year`\n",
    "- all records with missing `birth_year` also have unknown `gender`, which likely also corresponds to the customer `user_type`\n",
    "\n",
    "We won't delete records that are missing `birth_year`, since that would remove all customers. We'll have to keep this missing data in mind when developing the database."
   ]
  },
  {
   "cell_type": "markdown",
   "metadata": {},
   "source": [
    "### `user_type`\n",
    "\n",
    "Let's move on to the missing `user_type` data. There were `380` missing records, less than 1\\% of the total. Let's check if these records are also missing `birth_year` or have unknown `gender`:"
   ]
  },
  {
   "cell_type": "code",
   "execution_count": 18,
   "metadata": {},
   "outputs": [
    {
     "data": {
      "text/plain": [
       "0"
      ]
     },
     "execution_count": 18,
     "metadata": {},
     "output_type": "execute_result"
    }
   ],
   "source": [
    "# the number of genders for which the missing user type records form more than 1% of the overall data\n",
    "# there are no NAs in gender, so we don't need to worry about that\n",
    "missing_user_type = df_bike[df_bike[['user_type']].isnull().any(axis=1)]\n",
    "((missing_user_type['gender'] == 0) | (missing_user_type['birth_year'].isna())).sum()"
   ]
  },
  {
   "cell_type": "markdown",
   "metadata": {},
   "source": [
    "Given this result, these are most like subscribers, but it is possible they are customers. Let's take a look at the missing data over the course of the year:"
   ]
  },
  {
   "cell_type": "code",
   "execution_count": 19,
   "metadata": {},
   "outputs": [
    {
     "data": {
      "text/html": [
       "<div>\n",
       "<style scoped>\n",
       "    .dataframe tbody tr th:only-of-type {\n",
       "        vertical-align: middle;\n",
       "    }\n",
       "\n",
       "    .dataframe tbody tr th {\n",
       "        vertical-align: top;\n",
       "    }\n",
       "\n",
       "    .dataframe thead th {\n",
       "        text-align: right;\n",
       "    }\n",
       "</style>\n",
       "<table border=\"1\" class=\"dataframe\">\n",
       "  <thead>\n",
       "    <tr style=\"text-align: right;\">\n",
       "      <th></th>\n",
       "      <th>trip_duration</th>\n",
       "      <th>start_time</th>\n",
       "      <th>stop_time</th>\n",
       "      <th>start_station_id</th>\n",
       "      <th>start_station_name</th>\n",
       "      <th>start_station_latitude</th>\n",
       "      <th>start_station_longitude</th>\n",
       "      <th>end_station_id</th>\n",
       "      <th>end_station_name</th>\n",
       "      <th>end_station_latitude</th>\n",
       "      <th>end_station_longitude</th>\n",
       "      <th>bike_id</th>\n",
       "      <th>user_type</th>\n",
       "      <th>birth_year</th>\n",
       "      <th>gender</th>\n",
       "      <th>id</th>\n",
       "      <th>age</th>\n",
       "    </tr>\n",
       "  </thead>\n",
       "  <tbody>\n",
       "    <tr>\n",
       "      <th>25267</th>\n",
       "      <td>156</td>\n",
       "      <td>2016-03-23 09:08:34</td>\n",
       "      <td>2016-03-23 09:11:11</td>\n",
       "      <td>3214</td>\n",
       "      <td>Essex Light Rail</td>\n",
       "      <td>40.712774</td>\n",
       "      <td>-74.036486</td>\n",
       "      <td>3183</td>\n",
       "      <td>Exchange Place</td>\n",
       "      <td>40.716247</td>\n",
       "      <td>-74.033459</td>\n",
       "      <td>24444</td>\n",
       "      <td>NaN</td>\n",
       "      <td>1987.0</td>\n",
       "      <td>1</td>\n",
       "      <td>25267</td>\n",
       "      <td>29.0</td>\n",
       "    </tr>\n",
       "    <tr>\n",
       "      <th>25668</th>\n",
       "      <td>164</td>\n",
       "      <td>2016-03-23 22:17:45</td>\n",
       "      <td>2016-03-23 22:20:29</td>\n",
       "      <td>3183</td>\n",
       "      <td>Exchange Place</td>\n",
       "      <td>40.716247</td>\n",
       "      <td>-74.033459</td>\n",
       "      <td>3214</td>\n",
       "      <td>Essex Light Rail</td>\n",
       "      <td>40.712774</td>\n",
       "      <td>-74.036486</td>\n",
       "      <td>24675</td>\n",
       "      <td>NaN</td>\n",
       "      <td>1987.0</td>\n",
       "      <td>1</td>\n",
       "      <td>25668</td>\n",
       "      <td>29.0</td>\n",
       "    </tr>\n",
       "    <tr>\n",
       "      <th>25894</th>\n",
       "      <td>171</td>\n",
       "      <td>2016-03-24 11:46:39</td>\n",
       "      <td>2016-03-24 11:49:31</td>\n",
       "      <td>3214</td>\n",
       "      <td>Essex Light Rail</td>\n",
       "      <td>40.712774</td>\n",
       "      <td>-74.036486</td>\n",
       "      <td>3183</td>\n",
       "      <td>Exchange Place</td>\n",
       "      <td>40.716247</td>\n",
       "      <td>-74.033459</td>\n",
       "      <td>24697</td>\n",
       "      <td>NaN</td>\n",
       "      <td>1987.0</td>\n",
       "      <td>1</td>\n",
       "      <td>25894</td>\n",
       "      <td>29.0</td>\n",
       "    </tr>\n",
       "    <tr>\n",
       "      <th>26189</th>\n",
       "      <td>204</td>\n",
       "      <td>2016-03-24 20:45:45</td>\n",
       "      <td>2016-03-24 20:49:10</td>\n",
       "      <td>3183</td>\n",
       "      <td>Exchange Place</td>\n",
       "      <td>40.716247</td>\n",
       "      <td>-74.033459</td>\n",
       "      <td>3214</td>\n",
       "      <td>Essex Light Rail</td>\n",
       "      <td>40.712774</td>\n",
       "      <td>-74.036486</td>\n",
       "      <td>24387</td>\n",
       "      <td>NaN</td>\n",
       "      <td>1987.0</td>\n",
       "      <td>1</td>\n",
       "      <td>26189</td>\n",
       "      <td>29.0</td>\n",
       "    </tr>\n",
       "    <tr>\n",
       "      <th>26630</th>\n",
       "      <td>380</td>\n",
       "      <td>2016-03-25 19:15:56</td>\n",
       "      <td>2016-03-25 19:22:17</td>\n",
       "      <td>3183</td>\n",
       "      <td>Exchange Place</td>\n",
       "      <td>40.716247</td>\n",
       "      <td>-74.033459</td>\n",
       "      <td>3184</td>\n",
       "      <td>Paulus Hook</td>\n",
       "      <td>40.714145</td>\n",
       "      <td>-74.033552</td>\n",
       "      <td>24412</td>\n",
       "      <td>NaN</td>\n",
       "      <td>1987.0</td>\n",
       "      <td>1</td>\n",
       "      <td>26630</td>\n",
       "      <td>29.0</td>\n",
       "    </tr>\n",
       "  </tbody>\n",
       "</table>\n",
       "</div>"
      ],
      "text/plain": [
       "       trip_duration          start_time           stop_time  \\\n",
       "25267            156 2016-03-23 09:08:34 2016-03-23 09:11:11   \n",
       "25668            164 2016-03-23 22:17:45 2016-03-23 22:20:29   \n",
       "25894            171 2016-03-24 11:46:39 2016-03-24 11:49:31   \n",
       "26189            204 2016-03-24 20:45:45 2016-03-24 20:49:10   \n",
       "26630            380 2016-03-25 19:15:56 2016-03-25 19:22:17   \n",
       "\n",
       "       start_station_id start_station_name  start_station_latitude  \\\n",
       "25267              3214   Essex Light Rail               40.712774   \n",
       "25668              3183     Exchange Place               40.716247   \n",
       "25894              3214   Essex Light Rail               40.712774   \n",
       "26189              3183     Exchange Place               40.716247   \n",
       "26630              3183     Exchange Place               40.716247   \n",
       "\n",
       "       start_station_longitude  end_station_id  end_station_name  \\\n",
       "25267               -74.036486            3183    Exchange Place   \n",
       "25668               -74.033459            3214  Essex Light Rail   \n",
       "25894               -74.036486            3183    Exchange Place   \n",
       "26189               -74.033459            3214  Essex Light Rail   \n",
       "26630               -74.033459            3184       Paulus Hook   \n",
       "\n",
       "       end_station_latitude  end_station_longitude  bike_id user_type  \\\n",
       "25267             40.716247             -74.033459    24444       NaN   \n",
       "25668             40.712774             -74.036486    24675       NaN   \n",
       "25894             40.716247             -74.033459    24697       NaN   \n",
       "26189             40.712774             -74.036486    24387       NaN   \n",
       "26630             40.714145             -74.033552    24412       NaN   \n",
       "\n",
       "       birth_year  gender     id   age  \n",
       "25267      1987.0       1  25267  29.0  \n",
       "25668      1987.0       1  25668  29.0  \n",
       "25894      1987.0       1  25894  29.0  \n",
       "26189      1987.0       1  26189  29.0  \n",
       "26630      1987.0       1  26630  29.0  "
      ]
     },
     "execution_count": 19,
     "metadata": {},
     "output_type": "execute_result"
    }
   ],
   "source": [
    "missing_user_type.head()"
   ]
  },
  {
   "cell_type": "code",
   "execution_count": 20,
   "metadata": {},
   "outputs": [
    {
     "data": {
      "image/png": "[encoded data removed]",
      "text/plain": [
       "<Figure size 432x288 with 1 Axes>"
      ]
     },
     "metadata": {
      "needs_background": "light"
     },
     "output_type": "display_data"
    }
   ],
   "source": [
    "my = (missing_user_type.resample('M',on='start_time').count()['id']/len(missing_user_type)).rename('missing')\n",
    "dy = (df_bike.resample('M',on='start_time').count()['id']/len(df_bike)).rename('full')\n",
    "combo = pd.concat([my,dy],axis=1)\n",
    "\n",
    "\n",
    "ax = combo.plot.bar();"
   ]
  },
  {
   "cell_type": "markdown",
   "metadata": {},
   "source": [
    "While the missing data is a small percentage of the total, an eye test of the distributions indicates that it might not be missing at random. From a data management perspective, let's keep the data but replace the NaN with an `unknown` category. This way, the analytics team can investigate further and we can keep track of this issue if we update the database with more years of data."
   ]
  },
  {
   "cell_type": "code",
   "execution_count": 21,
   "metadata": {
    "id": "02-Dujong3D4"
   },
   "outputs": [],
   "source": [
    "df_bike.fillna({'user_type':'Unknown'},inplace=True)"
   ]
  },
  {
   "cell_type": "code",
   "execution_count": 22,
   "metadata": {},
   "outputs": [
    {
     "name": "stdout",
     "output_type": "stream",
     "text": [
      "<class 'pandas.core.frame.DataFrame'>\n",
      "Int64Index: 247583 entries, 0 to 247583\n",
      "Data columns (total 17 columns):\n",
      " #   Column                   Non-Null Count   Dtype         \n",
      "---  ------                   --------------   -----         \n",
      " 0   trip_duration            247583 non-null  int64         \n",
      " 1   start_time               247583 non-null  datetime64[ns]\n",
      " 2   stop_time                247583 non-null  datetime64[ns]\n",
      " 3   start_station_id         247583 non-null  int64         \n",
      " 4   start_station_name       247583 non-null  object        \n",
      " 5   start_station_latitude   247583 non-null  float64       \n",
      " 6   start_station_longitude  247583 non-null  float64       \n",
      " 7   end_station_id           247583 non-null  int64         \n",
      " 8   end_station_name         247583 non-null  object        \n",
      " 9   end_station_latitude     247583 non-null  float64       \n",
      " 10  end_station_longitude    247583 non-null  float64       \n",
      " 11  bike_id                  247583 non-null  int64         \n",
      " 12  user_type                247583 non-null  object        \n",
      " 13  birth_year               228584 non-null  float64       \n",
      " 14  gender                   247583 non-null  int64         \n",
      " 15  id                       247583 non-null  int64         \n",
      " 16  age                      228584 non-null  float64       \n",
      "dtypes: datetime64[ns](2), float64(6), int64(6), object(3)\n",
      "memory usage: 34.0+ MB\n"
     ]
    }
   ],
   "source": [
    "df_bike.info()"
   ]
  },
  {
   "cell_type": "markdown",
   "metadata": {
    "id": "Mc_I1fiOamoC"
   },
   "source": [
    "### `gender`\n",
    "\n",
    "Let's confirm that most unknown genders correspond to `user_type = Customer`"
   ]
  },
  {
   "cell_type": "code",
   "execution_count": 23,
   "metadata": {
    "colab": {
     "base_uri": "https://localhost:8080/",
     "height": 330
    },
    "id": "YoaXJj5cH4eE",
    "outputId": "80710a67-b0f9-49a1-b392-b2550626a030"
   },
   "outputs": [
    {
     "data": {
      "text/plain": [
       "user_type   gender\n",
       "Customer    0          15470\n",
       "            1             36\n",
       "            2             15\n",
       "Subscriber  0           4431\n",
       "            1         176898\n",
       "            2          50353\n",
       "Unknown     1            262\n",
       "            2            118\n",
       "Name: id, dtype: int64"
      ]
     },
     "execution_count": 23,
     "metadata": {},
     "output_type": "execute_result"
    }
   ],
   "source": [
    "df_bike.groupby(['user_type','gender']).count()['id']"
   ]
  },
  {
   "cell_type": "markdown",
   "metadata": {},
   "source": [
    "We won't delete these rows (to avoid removing almost all customers) but as with `birth_year` we'll need to be aware that demographic information is only really useful for `user_type = subscriber`."
   ]
  },
  {
   "cell_type": "markdown",
   "metadata": {},
   "source": [
    "### `trip_duration`\n",
    "\n",
    "This column had a suspiciously large maximum. Let's investigate:"
   ]
  },
  {
   "cell_type": "code",
   "execution_count": 24,
   "metadata": {},
   "outputs": [
    {
     "data": {
      "text/html": [
       "<div>\n",
       "<style scoped>\n",
       "    .dataframe tbody tr th:only-of-type {\n",
       "        vertical-align: middle;\n",
       "    }\n",
       "\n",
       "    .dataframe tbody tr th {\n",
       "        vertical-align: top;\n",
       "    }\n",
       "\n",
       "    .dataframe thead th {\n",
       "        text-align: right;\n",
       "    }\n",
       "</style>\n",
       "<table border=\"1\" class=\"dataframe\">\n",
       "  <thead>\n",
       "    <tr style=\"text-align: right;\">\n",
       "      <th></th>\n",
       "      <th>trip_duration</th>\n",
       "      <th>trip_minutes</th>\n",
       "      <th>trip_hours</th>\n",
       "    </tr>\n",
       "  </thead>\n",
       "  <tbody>\n",
       "    <tr>\n",
       "      <th>count</th>\n",
       "      <td>2.475830e+05</td>\n",
       "      <td>247583.000000</td>\n",
       "      <td>247583.000000</td>\n",
       "    </tr>\n",
       "    <tr>\n",
       "      <th>mean</th>\n",
       "      <td>8.856300e+02</td>\n",
       "      <td>14.760494</td>\n",
       "      <td>0.246006</td>\n",
       "    </tr>\n",
       "    <tr>\n",
       "      <th>std</th>\n",
       "      <td>3.593805e+04</td>\n",
       "      <td>598.967493</td>\n",
       "      <td>9.982797</td>\n",
       "    </tr>\n",
       "    <tr>\n",
       "      <th>min</th>\n",
       "      <td>6.100000e+01</td>\n",
       "      <td>1.020000</td>\n",
       "      <td>0.020000</td>\n",
       "    </tr>\n",
       "    <tr>\n",
       "      <th>25%</th>\n",
       "      <td>2.480000e+02</td>\n",
       "      <td>4.130000</td>\n",
       "      <td>0.070000</td>\n",
       "    </tr>\n",
       "    <tr>\n",
       "      <th>50%</th>\n",
       "      <td>3.900000e+02</td>\n",
       "      <td>6.500000</td>\n",
       "      <td>0.110000</td>\n",
       "    </tr>\n",
       "    <tr>\n",
       "      <th>75%</th>\n",
       "      <td>6.660000e+02</td>\n",
       "      <td>11.100000</td>\n",
       "      <td>0.180000</td>\n",
       "    </tr>\n",
       "    <tr>\n",
       "      <th>max</th>\n",
       "      <td>1.632981e+07</td>\n",
       "      <td>272163.470000</td>\n",
       "      <td>4536.060000</td>\n",
       "    </tr>\n",
       "  </tbody>\n",
       "</table>\n",
       "</div>"
      ],
      "text/plain": [
       "       trip_duration   trip_minutes     trip_hours\n",
       "count   2.475830e+05  247583.000000  247583.000000\n",
       "mean    8.856300e+02      14.760494       0.246006\n",
       "std     3.593805e+04     598.967493       9.982797\n",
       "min     6.100000e+01       1.020000       0.020000\n",
       "25%     2.480000e+02       4.130000       0.070000\n",
       "50%     3.900000e+02       6.500000       0.110000\n",
       "75%     6.660000e+02      11.100000       0.180000\n",
       "max     1.632981e+07  272163.470000    4536.060000"
      ]
     },
     "execution_count": 24,
     "metadata": {},
     "output_type": "execute_result"
    }
   ],
   "source": [
    "# creating an easier to interpret trip time column in minutes and hours\n",
    "df_bike['trip_minutes'] = round(df_bike['trip_duration'] / 60, 2)\n",
    "df_bike['trip_hours'] = round(df_bike['trip_duration']/(60**2),2)\n",
    "df_bike[['trip_duration','trip_minutes','trip_hours']].describe()"
   ]
  },
  {
   "cell_type": "markdown",
   "metadata": {},
   "source": [
    "Observations:\n",
    "- minimum trip length = 61 seconds\n",
    "- maximum trip = 4,536 hours =189 days\n",
    "\n",
    "According to the data dictionary, trips under 60 seconds were already assumed to be false starts/stops and were pruned. \n",
    "\n",
    "For the max, Citi Bike policies state that the maximum length of a trip is 24 hours (or 86400 seconds).\n",
    "\n",
    "We won't delete the longer trips, since it is possible these correspond to bike docking issues or users breaking the rules (which analysts might want to investigate). However, we will add a flag so that the analytics team can easily filter these out if desired."
   ]
  },
  {
   "cell_type": "code",
   "execution_count": 25,
   "metadata": {},
   "outputs": [],
   "source": [
    "# create a column to flag rides that do not comply with system protocols\n",
    "df_bike['valid_duration'] = df_bike['trip_duration'].apply(lambda x: 0 if x > 86400 else 1).astype(bool)"
   ]
  },
  {
   "cell_type": "markdown",
   "metadata": {},
   "source": [
    "Since we've dropped some data, let's reset our index and `id` columns"
   ]
  },
  {
   "cell_type": "code",
   "execution_count": 26,
   "metadata": {},
   "outputs": [
    {
     "data": {
      "text/html": [
       "<div>\n",
       "<style scoped>\n",
       "    .dataframe tbody tr th:only-of-type {\n",
       "        vertical-align: middle;\n",
       "    }\n",
       "\n",
       "    .dataframe tbody tr th {\n",
       "        vertical-align: top;\n",
       "    }\n",
       "\n",
       "    .dataframe thead th {\n",
       "        text-align: right;\n",
       "    }\n",
       "</style>\n",
       "<table border=\"1\" class=\"dataframe\">\n",
       "  <thead>\n",
       "    <tr style=\"text-align: right;\">\n",
       "      <th></th>\n",
       "      <th>trip_duration</th>\n",
       "      <th>start_time</th>\n",
       "      <th>stop_time</th>\n",
       "      <th>start_station_id</th>\n",
       "      <th>start_station_name</th>\n",
       "      <th>start_station_latitude</th>\n",
       "      <th>start_station_longitude</th>\n",
       "      <th>end_station_id</th>\n",
       "      <th>end_station_name</th>\n",
       "      <th>end_station_latitude</th>\n",
       "      <th>end_station_longitude</th>\n",
       "      <th>bike_id</th>\n",
       "      <th>user_type</th>\n",
       "      <th>birth_year</th>\n",
       "      <th>gender</th>\n",
       "      <th>id</th>\n",
       "      <th>age</th>\n",
       "      <th>trip_minutes</th>\n",
       "      <th>trip_hours</th>\n",
       "      <th>valid_duration</th>\n",
       "    </tr>\n",
       "  </thead>\n",
       "  <tbody>\n",
       "    <tr>\n",
       "      <th>247578</th>\n",
       "      <td>557</td>\n",
       "      <td>2016-12-31 23:10:16</td>\n",
       "      <td>2016-12-31 23:19:33</td>\n",
       "      <td>3214</td>\n",
       "      <td>Essex Light Rail</td>\n",
       "      <td>40.712774</td>\n",
       "      <td>-74.036486</td>\n",
       "      <td>3203</td>\n",
       "      <td>Hamilton Park</td>\n",
       "      <td>40.727596</td>\n",
       "      <td>-74.044247</td>\n",
       "      <td>24465</td>\n",
       "      <td>Subscriber</td>\n",
       "      <td>1981.0</td>\n",
       "      <td>2</td>\n",
       "      <td>247578</td>\n",
       "      <td>35.0</td>\n",
       "      <td>9.28</td>\n",
       "      <td>0.15</td>\n",
       "      <td>True</td>\n",
       "    </tr>\n",
       "    <tr>\n",
       "      <th>247579</th>\n",
       "      <td>2749</td>\n",
       "      <td>2016-12-31 23:29:39</td>\n",
       "      <td>2017-01-01 00:15:29</td>\n",
       "      <td>3183</td>\n",
       "      <td>Exchange Place</td>\n",
       "      <td>40.716247</td>\n",
       "      <td>-74.033459</td>\n",
       "      <td>3183</td>\n",
       "      <td>Exchange Place</td>\n",
       "      <td>40.716247</td>\n",
       "      <td>-74.033459</td>\n",
       "      <td>24389</td>\n",
       "      <td>Customer</td>\n",
       "      <td>NaN</td>\n",
       "      <td>0</td>\n",
       "      <td>247579</td>\n",
       "      <td>NaN</td>\n",
       "      <td>45.82</td>\n",
       "      <td>0.76</td>\n",
       "      <td>True</td>\n",
       "    </tr>\n",
       "    <tr>\n",
       "      <th>247580</th>\n",
       "      <td>173</td>\n",
       "      <td>2016-12-31 23:44:37</td>\n",
       "      <td>2016-12-31 23:47:31</td>\n",
       "      <td>3186</td>\n",
       "      <td>Grove St PATH</td>\n",
       "      <td>40.719586</td>\n",
       "      <td>-74.043117</td>\n",
       "      <td>3270</td>\n",
       "      <td>Jersey &amp; 6th St</td>\n",
       "      <td>40.725289</td>\n",
       "      <td>-74.045572</td>\n",
       "      <td>24641</td>\n",
       "      <td>Subscriber</td>\n",
       "      <td>1978.0</td>\n",
       "      <td>1</td>\n",
       "      <td>247580</td>\n",
       "      <td>38.0</td>\n",
       "      <td>2.88</td>\n",
       "      <td>0.05</td>\n",
       "      <td>True</td>\n",
       "    </tr>\n",
       "    <tr>\n",
       "      <th>247581</th>\n",
       "      <td>2424</td>\n",
       "      <td>2016-12-31 23:44:50</td>\n",
       "      <td>2017-01-01 00:25:14</td>\n",
       "      <td>3214</td>\n",
       "      <td>Essex Light Rail</td>\n",
       "      <td>40.712774</td>\n",
       "      <td>-74.036486</td>\n",
       "      <td>3214</td>\n",
       "      <td>Essex Light Rail</td>\n",
       "      <td>40.712774</td>\n",
       "      <td>-74.036486</td>\n",
       "      <td>26219</td>\n",
       "      <td>Subscriber</td>\n",
       "      <td>1960.0</td>\n",
       "      <td>2</td>\n",
       "      <td>247581</td>\n",
       "      <td>56.0</td>\n",
       "      <td>40.40</td>\n",
       "      <td>0.67</td>\n",
       "      <td>True</td>\n",
       "    </tr>\n",
       "    <tr>\n",
       "      <th>247582</th>\n",
       "      <td>2419</td>\n",
       "      <td>2016-12-31 23:44:50</td>\n",
       "      <td>2017-01-01 00:25:10</td>\n",
       "      <td>3214</td>\n",
       "      <td>Essex Light Rail</td>\n",
       "      <td>40.712774</td>\n",
       "      <td>-74.036486</td>\n",
       "      <td>3214</td>\n",
       "      <td>Essex Light Rail</td>\n",
       "      <td>40.712774</td>\n",
       "      <td>-74.036486</td>\n",
       "      <td>24471</td>\n",
       "      <td>Subscriber</td>\n",
       "      <td>1956.0</td>\n",
       "      <td>1</td>\n",
       "      <td>247582</td>\n",
       "      <td>60.0</td>\n",
       "      <td>40.32</td>\n",
       "      <td>0.67</td>\n",
       "      <td>True</td>\n",
       "    </tr>\n",
       "  </tbody>\n",
       "</table>\n",
       "</div>"
      ],
      "text/plain": [
       "        trip_duration          start_time           stop_time  \\\n",
       "247578            557 2016-12-31 23:10:16 2016-12-31 23:19:33   \n",
       "247579           2749 2016-12-31 23:29:39 2017-01-01 00:15:29   \n",
       "247580            173 2016-12-31 23:44:37 2016-12-31 23:47:31   \n",
       "247581           2424 2016-12-31 23:44:50 2017-01-01 00:25:14   \n",
       "247582           2419 2016-12-31 23:44:50 2017-01-01 00:25:10   \n",
       "\n",
       "        start_station_id start_station_name  start_station_latitude  \\\n",
       "247578              3214   Essex Light Rail               40.712774   \n",
       "247579              3183     Exchange Place               40.716247   \n",
       "247580              3186      Grove St PATH               40.719586   \n",
       "247581              3214   Essex Light Rail               40.712774   \n",
       "247582              3214   Essex Light Rail               40.712774   \n",
       "\n",
       "        start_station_longitude  end_station_id  end_station_name  \\\n",
       "247578               -74.036486            3203     Hamilton Park   \n",
       "247579               -74.033459            3183    Exchange Place   \n",
       "247580               -74.043117            3270   Jersey & 6th St   \n",
       "247581               -74.036486            3214  Essex Light Rail   \n",
       "247582               -74.036486            3214  Essex Light Rail   \n",
       "\n",
       "        end_station_latitude  end_station_longitude  bike_id   user_type  \\\n",
       "247578             40.727596             -74.044247    24465  Subscriber   \n",
       "247579             40.716247             -74.033459    24389    Customer   \n",
       "247580             40.725289             -74.045572    24641  Subscriber   \n",
       "247581             40.712774             -74.036486    26219  Subscriber   \n",
       "247582             40.712774             -74.036486    24471  Subscriber   \n",
       "\n",
       "        birth_year  gender      id   age  trip_minutes  trip_hours  \\\n",
       "247578      1981.0       2  247578  35.0          9.28        0.15   \n",
       "247579         NaN       0  247579   NaN         45.82        0.76   \n",
       "247580      1978.0       1  247580  38.0          2.88        0.05   \n",
       "247581      1960.0       2  247581  56.0         40.40        0.67   \n",
       "247582      1956.0       1  247582  60.0         40.32        0.67   \n",
       "\n",
       "        valid_duration  \n",
       "247578            True  \n",
       "247579            True  \n",
       "247580            True  \n",
       "247581            True  \n",
       "247582            True  "
      ]
     },
     "execution_count": 26,
     "metadata": {},
     "output_type": "execute_result"
    }
   ],
   "source": [
    "df_bike.reset_index(drop=True,inplace=True)\n",
    "df_bike['id'] = df_bike.index\n",
    "df_bike.tail()"
   ]
  },
  {
   "cell_type": "markdown",
   "metadata": {
    "id": "PQCyEQVUg3D7"
   },
   "source": [
    "## Weather Data Overview"
   ]
  },
  {
   "cell_type": "markdown",
   "metadata": {
    "id": "dZN3kIsehw_X"
   },
   "source": [
    "See the weather data dictionary (file:GHCND_documentaion) in the zipped folder for more information."
   ]
  },
  {
   "cell_type": "code",
   "execution_count": 27,
   "metadata": {
    "id": "S0YNHNiVg3D8"
   },
   "outputs": [
    {
     "data": {
      "text/html": [
       "<div>\n",
       "<style scoped>\n",
       "    .dataframe tbody tr th:only-of-type {\n",
       "        vertical-align: middle;\n",
       "    }\n",
       "\n",
       "    .dataframe tbody tr th {\n",
       "        vertical-align: top;\n",
       "    }\n",
       "\n",
       "    .dataframe thead th {\n",
       "        text-align: right;\n",
       "    }\n",
       "</style>\n",
       "<table border=\"1\" class=\"dataframe\">\n",
       "  <thead>\n",
       "    <tr style=\"text-align: right;\">\n",
       "      <th></th>\n",
       "      <th>STATION</th>\n",
       "      <th>NAME</th>\n",
       "      <th>DATE</th>\n",
       "      <th>AWND</th>\n",
       "      <th>PGTM</th>\n",
       "      <th>PRCP</th>\n",
       "      <th>SNOW</th>\n",
       "      <th>SNWD</th>\n",
       "      <th>TAVG</th>\n",
       "      <th>TMAX</th>\n",
       "      <th>TMIN</th>\n",
       "      <th>TSUN</th>\n",
       "      <th>WDF2</th>\n",
       "      <th>WDF5</th>\n",
       "      <th>WSF2</th>\n",
       "      <th>WSF5</th>\n",
       "    </tr>\n",
       "  </thead>\n",
       "  <tbody>\n",
       "    <tr>\n",
       "      <th>0</th>\n",
       "      <td>USW00014734</td>\n",
       "      <td>NEWARK LIBERTY INTERNATIONAL AIRPORT, NJ US</td>\n",
       "      <td>2016-01-01</td>\n",
       "      <td>12.75</td>\n",
       "      <td>NaN</td>\n",
       "      <td>0.0</td>\n",
       "      <td>0.0</td>\n",
       "      <td>0.0</td>\n",
       "      <td>41</td>\n",
       "      <td>43</td>\n",
       "      <td>34</td>\n",
       "      <td>NaN</td>\n",
       "      <td>270</td>\n",
       "      <td>280.0</td>\n",
       "      <td>25.9</td>\n",
       "      <td>35.1</td>\n",
       "    </tr>\n",
       "    <tr>\n",
       "      <th>1</th>\n",
       "      <td>USW00014734</td>\n",
       "      <td>NEWARK LIBERTY INTERNATIONAL AIRPORT, NJ US</td>\n",
       "      <td>2016-01-02</td>\n",
       "      <td>9.40</td>\n",
       "      <td>NaN</td>\n",
       "      <td>0.0</td>\n",
       "      <td>0.0</td>\n",
       "      <td>0.0</td>\n",
       "      <td>36</td>\n",
       "      <td>42</td>\n",
       "      <td>30</td>\n",
       "      <td>NaN</td>\n",
       "      <td>260</td>\n",
       "      <td>260.0</td>\n",
       "      <td>21.0</td>\n",
       "      <td>25.1</td>\n",
       "    </tr>\n",
       "    <tr>\n",
       "      <th>2</th>\n",
       "      <td>USW00014734</td>\n",
       "      <td>NEWARK LIBERTY INTERNATIONAL AIRPORT, NJ US</td>\n",
       "      <td>2016-01-03</td>\n",
       "      <td>10.29</td>\n",
       "      <td>NaN</td>\n",
       "      <td>0.0</td>\n",
       "      <td>0.0</td>\n",
       "      <td>0.0</td>\n",
       "      <td>37</td>\n",
       "      <td>47</td>\n",
       "      <td>28</td>\n",
       "      <td>NaN</td>\n",
       "      <td>270</td>\n",
       "      <td>250.0</td>\n",
       "      <td>23.9</td>\n",
       "      <td>30.0</td>\n",
       "    </tr>\n",
       "    <tr>\n",
       "      <th>3</th>\n",
       "      <td>USW00014734</td>\n",
       "      <td>NEWARK LIBERTY INTERNATIONAL AIRPORT, NJ US</td>\n",
       "      <td>2016-01-04</td>\n",
       "      <td>17.22</td>\n",
       "      <td>NaN</td>\n",
       "      <td>0.0</td>\n",
       "      <td>0.0</td>\n",
       "      <td>0.0</td>\n",
       "      <td>32</td>\n",
       "      <td>35</td>\n",
       "      <td>14</td>\n",
       "      <td>NaN</td>\n",
       "      <td>330</td>\n",
       "      <td>330.0</td>\n",
       "      <td>25.9</td>\n",
       "      <td>33.1</td>\n",
       "    </tr>\n",
       "    <tr>\n",
       "      <th>4</th>\n",
       "      <td>USW00014734</td>\n",
       "      <td>NEWARK LIBERTY INTERNATIONAL AIRPORT, NJ US</td>\n",
       "      <td>2016-01-05</td>\n",
       "      <td>9.84</td>\n",
       "      <td>NaN</td>\n",
       "      <td>0.0</td>\n",
       "      <td>0.0</td>\n",
       "      <td>0.0</td>\n",
       "      <td>19</td>\n",
       "      <td>31</td>\n",
       "      <td>10</td>\n",
       "      <td>NaN</td>\n",
       "      <td>360</td>\n",
       "      <td>350.0</td>\n",
       "      <td>25.1</td>\n",
       "      <td>31.1</td>\n",
       "    </tr>\n",
       "  </tbody>\n",
       "</table>\n",
       "</div>"
      ],
      "text/plain": [
       "       STATION                                         NAME        DATE  \\\n",
       "0  USW00014734  NEWARK LIBERTY INTERNATIONAL AIRPORT, NJ US  2016-01-01   \n",
       "1  USW00014734  NEWARK LIBERTY INTERNATIONAL AIRPORT, NJ US  2016-01-02   \n",
       "2  USW00014734  NEWARK LIBERTY INTERNATIONAL AIRPORT, NJ US  2016-01-03   \n",
       "3  USW00014734  NEWARK LIBERTY INTERNATIONAL AIRPORT, NJ US  2016-01-04   \n",
       "4  USW00014734  NEWARK LIBERTY INTERNATIONAL AIRPORT, NJ US  2016-01-05   \n",
       "\n",
       "    AWND  PGTM  PRCP  SNOW  SNWD  TAVG  TMAX  TMIN  TSUN  WDF2   WDF5  WSF2  \\\n",
       "0  12.75   NaN   0.0   0.0   0.0    41    43    34   NaN   270  280.0  25.9   \n",
       "1   9.40   NaN   0.0   0.0   0.0    36    42    30   NaN   260  260.0  21.0   \n",
       "2  10.29   NaN   0.0   0.0   0.0    37    47    28   NaN   270  250.0  23.9   \n",
       "3  17.22   NaN   0.0   0.0   0.0    32    35    14   NaN   330  330.0  25.9   \n",
       "4   9.84   NaN   0.0   0.0   0.0    19    31    10   NaN   360  350.0  25.1   \n",
       "\n",
       "   WSF5  \n",
       "0  35.1  \n",
       "1  25.1  \n",
       "2  30.0  \n",
       "3  33.1  \n",
       "4  31.1  "
      ]
     },
     "execution_count": 27,
     "metadata": {},
     "output_type": "execute_result"
    }
   ],
   "source": [
    "df_weather = pd.read_csv('data/newark_airport_2016.csv')\n",
    "df_weather.head()"
   ]
  },
  {
   "cell_type": "code",
   "execution_count": 28,
   "metadata": {
    "colab": {
     "base_uri": "https://localhost:8080/",
     "height": 361
    },
    "id": "MSgesytQfh8n",
    "outputId": "097e0d6b-4c66-48ea-8c76-9f2f7369c0cd"
   },
   "outputs": [
    {
     "data": {
      "text/html": [
       "<div>\n",
       "<style scoped>\n",
       "    .dataframe tbody tr th:only-of-type {\n",
       "        vertical-align: middle;\n",
       "    }\n",
       "\n",
       "    .dataframe tbody tr th {\n",
       "        vertical-align: top;\n",
       "    }\n",
       "\n",
       "    .dataframe thead th {\n",
       "        text-align: right;\n",
       "    }\n",
       "</style>\n",
       "<table border=\"1\" class=\"dataframe\">\n",
       "  <thead>\n",
       "    <tr style=\"text-align: right;\">\n",
       "      <th></th>\n",
       "      <th>AWND</th>\n",
       "      <th>PGTM</th>\n",
       "      <th>PRCP</th>\n",
       "      <th>SNOW</th>\n",
       "      <th>SNWD</th>\n",
       "      <th>TAVG</th>\n",
       "      <th>TMAX</th>\n",
       "      <th>TMIN</th>\n",
       "      <th>TSUN</th>\n",
       "      <th>WDF2</th>\n",
       "      <th>WDF5</th>\n",
       "      <th>WSF2</th>\n",
       "      <th>WSF5</th>\n",
       "    </tr>\n",
       "  </thead>\n",
       "  <tbody>\n",
       "    <tr>\n",
       "      <th>count</th>\n",
       "      <td>366.000000</td>\n",
       "      <td>0.0</td>\n",
       "      <td>366.000000</td>\n",
       "      <td>366.000000</td>\n",
       "      <td>366.000000</td>\n",
       "      <td>366.000000</td>\n",
       "      <td>366.000000</td>\n",
       "      <td>366.000000</td>\n",
       "      <td>0.0</td>\n",
       "      <td>366.000000</td>\n",
       "      <td>364.000000</td>\n",
       "      <td>366.000000</td>\n",
       "      <td>364.000000</td>\n",
       "    </tr>\n",
       "    <tr>\n",
       "      <th>mean</th>\n",
       "      <td>9.429973</td>\n",
       "      <td>NaN</td>\n",
       "      <td>0.104945</td>\n",
       "      <td>0.098087</td>\n",
       "      <td>0.342623</td>\n",
       "      <td>57.196721</td>\n",
       "      <td>65.991803</td>\n",
       "      <td>48.459016</td>\n",
       "      <td>NaN</td>\n",
       "      <td>217.841530</td>\n",
       "      <td>228.269231</td>\n",
       "      <td>20.484426</td>\n",
       "      <td>26.801648</td>\n",
       "    </tr>\n",
       "    <tr>\n",
       "      <th>std</th>\n",
       "      <td>3.748174</td>\n",
       "      <td>NaN</td>\n",
       "      <td>0.307496</td>\n",
       "      <td>1.276498</td>\n",
       "      <td>2.078510</td>\n",
       "      <td>17.466981</td>\n",
       "      <td>18.606301</td>\n",
       "      <td>17.135790</td>\n",
       "      <td>NaN</td>\n",
       "      <td>102.548282</td>\n",
       "      <td>97.415777</td>\n",
       "      <td>6.848390</td>\n",
       "      <td>8.882610</td>\n",
       "    </tr>\n",
       "    <tr>\n",
       "      <th>min</th>\n",
       "      <td>2.460000</td>\n",
       "      <td>NaN</td>\n",
       "      <td>0.000000</td>\n",
       "      <td>0.000000</td>\n",
       "      <td>0.000000</td>\n",
       "      <td>8.000000</td>\n",
       "      <td>18.000000</td>\n",
       "      <td>0.000000</td>\n",
       "      <td>NaN</td>\n",
       "      <td>10.000000</td>\n",
       "      <td>10.000000</td>\n",
       "      <td>6.900000</td>\n",
       "      <td>10.100000</td>\n",
       "    </tr>\n",
       "    <tr>\n",
       "      <th>25%</th>\n",
       "      <td>6.765000</td>\n",
       "      <td>NaN</td>\n",
       "      <td>0.000000</td>\n",
       "      <td>0.000000</td>\n",
       "      <td>0.000000</td>\n",
       "      <td>43.000000</td>\n",
       "      <td>51.250000</td>\n",
       "      <td>35.000000</td>\n",
       "      <td>NaN</td>\n",
       "      <td>150.000000</td>\n",
       "      <td>150.000000</td>\n",
       "      <td>15.000000</td>\n",
       "      <td>19.900000</td>\n",
       "    </tr>\n",
       "    <tr>\n",
       "      <th>50%</th>\n",
       "      <td>8.720000</td>\n",
       "      <td>NaN</td>\n",
       "      <td>0.000000</td>\n",
       "      <td>0.000000</td>\n",
       "      <td>0.000000</td>\n",
       "      <td>56.000000</td>\n",
       "      <td>66.000000</td>\n",
       "      <td>47.000000</td>\n",
       "      <td>NaN</td>\n",
       "      <td>240.000000</td>\n",
       "      <td>260.000000</td>\n",
       "      <td>19.900000</td>\n",
       "      <td>25.100000</td>\n",
       "    </tr>\n",
       "    <tr>\n",
       "      <th>75%</th>\n",
       "      <td>11.410000</td>\n",
       "      <td>NaN</td>\n",
       "      <td>0.030000</td>\n",
       "      <td>0.000000</td>\n",
       "      <td>0.000000</td>\n",
       "      <td>74.000000</td>\n",
       "      <td>83.000000</td>\n",
       "      <td>64.000000</td>\n",
       "      <td>NaN</td>\n",
       "      <td>300.000000</td>\n",
       "      <td>300.000000</td>\n",
       "      <td>23.900000</td>\n",
       "      <td>31.100000</td>\n",
       "    </tr>\n",
       "    <tr>\n",
       "      <th>max</th>\n",
       "      <td>22.820000</td>\n",
       "      <td>NaN</td>\n",
       "      <td>2.790000</td>\n",
       "      <td>24.000000</td>\n",
       "      <td>20.100000</td>\n",
       "      <td>89.000000</td>\n",
       "      <td>99.000000</td>\n",
       "      <td>80.000000</td>\n",
       "      <td>NaN</td>\n",
       "      <td>360.000000</td>\n",
       "      <td>360.000000</td>\n",
       "      <td>48.100000</td>\n",
       "      <td>66.000000</td>\n",
       "    </tr>\n",
       "  </tbody>\n",
       "</table>\n",
       "</div>"
      ],
      "text/plain": [
       "             AWND  PGTM        PRCP        SNOW        SNWD        TAVG  \\\n",
       "count  366.000000   0.0  366.000000  366.000000  366.000000  366.000000   \n",
       "mean     9.429973   NaN    0.104945    0.098087    0.342623   57.196721   \n",
       "std      3.748174   NaN    0.307496    1.276498    2.078510   17.466981   \n",
       "min      2.460000   NaN    0.000000    0.000000    0.000000    8.000000   \n",
       "25%      6.765000   NaN    0.000000    0.000000    0.000000   43.000000   \n",
       "50%      8.720000   NaN    0.000000    0.000000    0.000000   56.000000   \n",
       "75%     11.410000   NaN    0.030000    0.000000    0.000000   74.000000   \n",
       "max     22.820000   NaN    2.790000   24.000000   20.100000   89.000000   \n",
       "\n",
       "             TMAX        TMIN  TSUN        WDF2        WDF5        WSF2  \\\n",
       "count  366.000000  366.000000   0.0  366.000000  364.000000  366.000000   \n",
       "mean    65.991803   48.459016   NaN  217.841530  228.269231   20.484426   \n",
       "std     18.606301   17.135790   NaN  102.548282   97.415777    6.848390   \n",
       "min     18.000000    0.000000   NaN   10.000000   10.000000    6.900000   \n",
       "25%     51.250000   35.000000   NaN  150.000000  150.000000   15.000000   \n",
       "50%     66.000000   47.000000   NaN  240.000000  260.000000   19.900000   \n",
       "75%     83.000000   64.000000   NaN  300.000000  300.000000   23.900000   \n",
       "max     99.000000   80.000000   NaN  360.000000  360.000000   48.100000   \n",
       "\n",
       "             WSF5  \n",
       "count  364.000000  \n",
       "mean    26.801648  \n",
       "std      8.882610  \n",
       "min     10.100000  \n",
       "25%     19.900000  \n",
       "50%     25.100000  \n",
       "75%     31.100000  \n",
       "max     66.000000  "
      ]
     },
     "execution_count": 28,
     "metadata": {},
     "output_type": "execute_result"
    }
   ],
   "source": [
    "df_weather.describe()"
   ]
  },
  {
   "cell_type": "markdown",
   "metadata": {
    "id": "QnoOdKYakU_o"
   },
   "source": [
    "## Cleaning and Transforming Weather Data"
   ]
  },
  {
   "cell_type": "markdown",
   "metadata": {
    "id": "l5F8L2dWf-AQ"
   },
   "source": [
    "PGTM (peak gust time) and TSUN (total minutes of sun) are entirely missing and will be dropped. WDFx and WSFx refer to the fastest x-minute wind, and are difficult to connect directly to our data (since we don't know when that speed occurred.) We'll therefore stick with AWND (average wind speed) for our wind-speed variable.\n",
    "\n",
    "Also, since all our data is from the same station, we'll drop those details for now."
   ]
  },
  {
   "cell_type": "code",
   "execution_count": 29,
   "metadata": {
    "id": "U8K8VVzqg3D8"
   },
   "outputs": [],
   "source": [
    "df_weather.drop(['STATION','NAME','PGTM','TSUN', 'WDF2', 'WDF5', 'WSF2', 'WSF5'],axis=1, inplace=True)"
   ]
  },
  {
   "cell_type": "markdown",
   "metadata": {},
   "source": [
    "Let's fix any data type issues:"
   ]
  },
  {
   "cell_type": "code",
   "execution_count": 30,
   "metadata": {
    "colab": {
     "base_uri": "https://localhost:8080/"
    },
    "id": "C5bilGW8g3D8",
    "outputId": "ebb5b87d-9fd0-420c-e8d6-0e5927223546"
   },
   "outputs": [
    {
     "data": {
      "text/plain": [
       "DATE     object\n",
       "AWND    float64\n",
       "PRCP    float64\n",
       "SNOW    float64\n",
       "SNWD    float64\n",
       "TAVG      int64\n",
       "TMAX      int64\n",
       "TMIN      int64\n",
       "dtype: object"
      ]
     },
     "execution_count": 30,
     "metadata": {},
     "output_type": "execute_result"
    }
   ],
   "source": [
    "df_weather.dtypes"
   ]
  },
  {
   "cell_type": "code",
   "execution_count": 31,
   "metadata": {
    "id": "q5zS1s-Fg3D8"
   },
   "outputs": [],
   "source": [
    "df_weather['DATE'] = pd.to_datetime(df_weather['DATE'],yearfirst=True)"
   ]
  },
  {
   "cell_type": "code",
   "execution_count": 32,
   "metadata": {
    "colab": {
     "base_uri": "https://localhost:8080/"
    },
    "id": "vmIpKspKg3D8",
    "outputId": "9cebd92a-284e-499b-ca98-348464cad6ca"
   },
   "outputs": [
    {
     "data": {
      "text/plain": [
       "DATE    datetime64[ns]\n",
       "AWND           float64\n",
       "PRCP           float64\n",
       "SNOW           float64\n",
       "SNWD           float64\n",
       "TAVG             int64\n",
       "TMAX             int64\n",
       "TMIN             int64\n",
       "dtype: object"
      ]
     },
     "execution_count": 32,
     "metadata": {},
     "output_type": "execute_result"
    }
   ],
   "source": [
    "df_weather.dtypes"
   ]
  },
  {
   "cell_type": "markdown",
   "metadata": {},
   "source": [
    "Let's take a look at the numeric variables:"
   ]
  },
  {
   "cell_type": "code",
   "execution_count": 33,
   "metadata": {
    "colab": {
     "base_uri": "https://localhost:8080/",
     "height": 297
    },
    "id": "MOhqRwYRg3D8",
    "outputId": "44a8a605-1b54-4738-90a0-f741ddab844e"
   },
   "outputs": [
    {
     "data": {
      "text/html": [
       "<div>\n",
       "<style scoped>\n",
       "    .dataframe tbody tr th:only-of-type {\n",
       "        vertical-align: middle;\n",
       "    }\n",
       "\n",
       "    .dataframe tbody tr th {\n",
       "        vertical-align: top;\n",
       "    }\n",
       "\n",
       "    .dataframe thead th {\n",
       "        text-align: right;\n",
       "    }\n",
       "</style>\n",
       "<table border=\"1\" class=\"dataframe\">\n",
       "  <thead>\n",
       "    <tr style=\"text-align: right;\">\n",
       "      <th></th>\n",
       "      <th>AWND</th>\n",
       "      <th>PRCP</th>\n",
       "      <th>SNOW</th>\n",
       "      <th>SNWD</th>\n",
       "      <th>TAVG</th>\n",
       "      <th>TMAX</th>\n",
       "      <th>TMIN</th>\n",
       "    </tr>\n",
       "  </thead>\n",
       "  <tbody>\n",
       "    <tr>\n",
       "      <th>count</th>\n",
       "      <td>366.000000</td>\n",
       "      <td>366.000000</td>\n",
       "      <td>366.000000</td>\n",
       "      <td>366.000000</td>\n",
       "      <td>366.000000</td>\n",
       "      <td>366.000000</td>\n",
       "      <td>366.000000</td>\n",
       "    </tr>\n",
       "    <tr>\n",
       "      <th>mean</th>\n",
       "      <td>9.429973</td>\n",
       "      <td>0.104945</td>\n",
       "      <td>0.098087</td>\n",
       "      <td>0.342623</td>\n",
       "      <td>57.196721</td>\n",
       "      <td>65.991803</td>\n",
       "      <td>48.459016</td>\n",
       "    </tr>\n",
       "    <tr>\n",
       "      <th>std</th>\n",
       "      <td>3.748174</td>\n",
       "      <td>0.307496</td>\n",
       "      <td>1.276498</td>\n",
       "      <td>2.078510</td>\n",
       "      <td>17.466981</td>\n",
       "      <td>18.606301</td>\n",
       "      <td>17.135790</td>\n",
       "    </tr>\n",
       "    <tr>\n",
       "      <th>min</th>\n",
       "      <td>2.460000</td>\n",
       "      <td>0.000000</td>\n",
       "      <td>0.000000</td>\n",
       "      <td>0.000000</td>\n",
       "      <td>8.000000</td>\n",
       "      <td>18.000000</td>\n",
       "      <td>0.000000</td>\n",
       "    </tr>\n",
       "    <tr>\n",
       "      <th>25%</th>\n",
       "      <td>6.765000</td>\n",
       "      <td>0.000000</td>\n",
       "      <td>0.000000</td>\n",
       "      <td>0.000000</td>\n",
       "      <td>43.000000</td>\n",
       "      <td>51.250000</td>\n",
       "      <td>35.000000</td>\n",
       "    </tr>\n",
       "    <tr>\n",
       "      <th>50%</th>\n",
       "      <td>8.720000</td>\n",
       "      <td>0.000000</td>\n",
       "      <td>0.000000</td>\n",
       "      <td>0.000000</td>\n",
       "      <td>56.000000</td>\n",
       "      <td>66.000000</td>\n",
       "      <td>47.000000</td>\n",
       "    </tr>\n",
       "    <tr>\n",
       "      <th>75%</th>\n",
       "      <td>11.410000</td>\n",
       "      <td>0.030000</td>\n",
       "      <td>0.000000</td>\n",
       "      <td>0.000000</td>\n",
       "      <td>74.000000</td>\n",
       "      <td>83.000000</td>\n",
       "      <td>64.000000</td>\n",
       "    </tr>\n",
       "    <tr>\n",
       "      <th>max</th>\n",
       "      <td>22.820000</td>\n",
       "      <td>2.790000</td>\n",
       "      <td>24.000000</td>\n",
       "      <td>20.100000</td>\n",
       "      <td>89.000000</td>\n",
       "      <td>99.000000</td>\n",
       "      <td>80.000000</td>\n",
       "    </tr>\n",
       "  </tbody>\n",
       "</table>\n",
       "</div>"
      ],
      "text/plain": [
       "             AWND        PRCP        SNOW        SNWD        TAVG        TMAX  \\\n",
       "count  366.000000  366.000000  366.000000  366.000000  366.000000  366.000000   \n",
       "mean     9.429973    0.104945    0.098087    0.342623   57.196721   65.991803   \n",
       "std      3.748174    0.307496    1.276498    2.078510   17.466981   18.606301   \n",
       "min      2.460000    0.000000    0.000000    0.000000    8.000000   18.000000   \n",
       "25%      6.765000    0.000000    0.000000    0.000000   43.000000   51.250000   \n",
       "50%      8.720000    0.000000    0.000000    0.000000   56.000000   66.000000   \n",
       "75%     11.410000    0.030000    0.000000    0.000000   74.000000   83.000000   \n",
       "max     22.820000    2.790000   24.000000   20.100000   89.000000   99.000000   \n",
       "\n",
       "             TMIN  \n",
       "count  366.000000  \n",
       "mean    48.459016  \n",
       "std     17.135790  \n",
       "min      0.000000  \n",
       "25%     35.000000  \n",
       "50%     47.000000  \n",
       "75%     64.000000  \n",
       "max     80.000000  "
      ]
     },
     "execution_count": 33,
     "metadata": {},
     "output_type": "execute_result"
    }
   ],
   "source": [
    "df_weather.describe()"
   ]
  },
  {
   "cell_type": "markdown",
   "metadata": {},
   "source": [
    "No obvious issues with outliers (temperatures are Fahrenheit and precipitation/snow amounts in inches).\n",
    "\n",
    "Let's check nulls:"
   ]
  },
  {
   "cell_type": "code",
   "execution_count": 34,
   "metadata": {
    "colab": {
     "base_uri": "https://localhost:8080/"
    },
    "id": "jt4ivoCDg3D9",
    "outputId": "2b1874ea-f832-4edb-be49-e50587789ae8"
   },
   "outputs": [
    {
     "data": {
      "text/plain": [
       "DATE    0\n",
       "AWND    0\n",
       "PRCP    0\n",
       "SNOW    0\n",
       "SNWD    0\n",
       "TAVG    0\n",
       "TMAX    0\n",
       "TMIN    0\n",
       "dtype: int64"
      ]
     },
     "execution_count": 34,
     "metadata": {},
     "output_type": "execute_result"
    }
   ],
   "source": [
    "df_weather.isnull().sum()"
   ]
  },
  {
   "cell_type": "markdown",
   "metadata": {
    "colab": {
     "base_uri": "https://localhost:8080/",
     "height": 333
    },
    "id": "GiXi03bvg3D9",
    "outputId": "71509717-0a05-479a-b7f6-6ac566cab874"
   },
   "source": [
    "Let's rename the columns to make the data clearer"
   ]
  },
  {
   "cell_type": "code",
   "execution_count": 35,
   "metadata": {
    "id": "bCoTso_7g3D9"
   },
   "outputs": [],
   "source": [
    "df_weather.columns = ['rec_date','avg_wind','prcp','snow_amt','snow_depth','tavg','tmax','tmin']"
   ]
  },
  {
   "cell_type": "markdown",
   "metadata": {},
   "source": [
    "Lastly, let's add some new columns to assist analysts"
   ]
  },
  {
   "cell_type": "code",
   "execution_count": 36,
   "metadata": {
    "id": "27t3mJYXg3D9"
   },
   "outputs": [],
   "source": [
    "# create convenience binary columns for weather events\n",
    "df_weather['rain'] = df_weather['prcp'].apply(lambda x: 1 if x > 0 else 0).astype(bool)\n",
    "df_weather['snow'] = df_weather['snow_amt'].apply(lambda x: 1 if x > 0 else 0).astype(bool)"
   ]
  },
  {
   "cell_type": "code",
   "execution_count": 37,
   "metadata": {},
   "outputs": [
    {
     "data": {
      "text/html": [
       "<div>\n",
       "<style scoped>\n",
       "    .dataframe tbody tr th:only-of-type {\n",
       "        vertical-align: middle;\n",
       "    }\n",
       "\n",
       "    .dataframe tbody tr th {\n",
       "        vertical-align: top;\n",
       "    }\n",
       "\n",
       "    .dataframe thead th {\n",
       "        text-align: right;\n",
       "    }\n",
       "</style>\n",
       "<table border=\"1\" class=\"dataframe\">\n",
       "  <thead>\n",
       "    <tr style=\"text-align: right;\">\n",
       "      <th></th>\n",
       "      <th>rec_date</th>\n",
       "      <th>avg_wind</th>\n",
       "      <th>prcp</th>\n",
       "      <th>snow_amt</th>\n",
       "      <th>snow_depth</th>\n",
       "      <th>tavg</th>\n",
       "      <th>tmax</th>\n",
       "      <th>tmin</th>\n",
       "      <th>rain</th>\n",
       "      <th>snow</th>\n",
       "    </tr>\n",
       "  </thead>\n",
       "  <tbody>\n",
       "    <tr>\n",
       "      <th>0</th>\n",
       "      <td>2016-01-01</td>\n",
       "      <td>12.75</td>\n",
       "      <td>0.0</td>\n",
       "      <td>0.0</td>\n",
       "      <td>0.0</td>\n",
       "      <td>41</td>\n",
       "      <td>43</td>\n",
       "      <td>34</td>\n",
       "      <td>False</td>\n",
       "      <td>False</td>\n",
       "    </tr>\n",
       "    <tr>\n",
       "      <th>1</th>\n",
       "      <td>2016-01-02</td>\n",
       "      <td>9.40</td>\n",
       "      <td>0.0</td>\n",
       "      <td>0.0</td>\n",
       "      <td>0.0</td>\n",
       "      <td>36</td>\n",
       "      <td>42</td>\n",
       "      <td>30</td>\n",
       "      <td>False</td>\n",
       "      <td>False</td>\n",
       "    </tr>\n",
       "    <tr>\n",
       "      <th>2</th>\n",
       "      <td>2016-01-03</td>\n",
       "      <td>10.29</td>\n",
       "      <td>0.0</td>\n",
       "      <td>0.0</td>\n",
       "      <td>0.0</td>\n",
       "      <td>37</td>\n",
       "      <td>47</td>\n",
       "      <td>28</td>\n",
       "      <td>False</td>\n",
       "      <td>False</td>\n",
       "    </tr>\n",
       "    <tr>\n",
       "      <th>3</th>\n",
       "      <td>2016-01-04</td>\n",
       "      <td>17.22</td>\n",
       "      <td>0.0</td>\n",
       "      <td>0.0</td>\n",
       "      <td>0.0</td>\n",
       "      <td>32</td>\n",
       "      <td>35</td>\n",
       "      <td>14</td>\n",
       "      <td>False</td>\n",
       "      <td>False</td>\n",
       "    </tr>\n",
       "    <tr>\n",
       "      <th>4</th>\n",
       "      <td>2016-01-05</td>\n",
       "      <td>9.84</td>\n",
       "      <td>0.0</td>\n",
       "      <td>0.0</td>\n",
       "      <td>0.0</td>\n",
       "      <td>19</td>\n",
       "      <td>31</td>\n",
       "      <td>10</td>\n",
       "      <td>False</td>\n",
       "      <td>False</td>\n",
       "    </tr>\n",
       "  </tbody>\n",
       "</table>\n",
       "</div>"
      ],
      "text/plain": [
       "    rec_date  avg_wind  prcp  snow_amt  snow_depth  tavg  tmax  tmin   rain  \\\n",
       "0 2016-01-01     12.75   0.0       0.0         0.0    41    43    34  False   \n",
       "1 2016-01-02      9.40   0.0       0.0         0.0    36    42    30  False   \n",
       "2 2016-01-03     10.29   0.0       0.0         0.0    37    47    28  False   \n",
       "3 2016-01-04     17.22   0.0       0.0         0.0    32    35    14  False   \n",
       "4 2016-01-05      9.84   0.0       0.0         0.0    19    31    10  False   \n",
       "\n",
       "    snow  \n",
       "0  False  \n",
       "1  False  \n",
       "2  False  \n",
       "3  False  \n",
       "4  False  "
      ]
     },
     "execution_count": 37,
     "metadata": {},
     "output_type": "execute_result"
    }
   ],
   "source": [
    "df_weather.head()"
   ]
  },
  {
   "cell_type": "markdown",
   "metadata": {
    "id": "n2klqu3Qqj6_"
   },
   "source": [
    "### Postgres Tables"
   ]
  },
  {
   "cell_type": "markdown",
   "metadata": {
    "id": "PvTz944WgkUn"
   },
   "source": [
    "#### Date Dimension Table"
   ]
  },
  {
   "cell_type": "markdown",
   "metadata": {
    "id": "RjPC8XBmetEl"
   },
   "source": [
    "Since our use-case depends heavily on dates, it makes sense to create a dedicated date dimension table to simplify queries. Let's create one that has date, month name, day name, financial quarter, and weekend information."
   ]
  },
  {
   "cell_type": "code",
   "execution_count": 38,
   "metadata": {
    "id": "1vMNfsLcZ1al"
   },
   "outputs": [
    {
     "data": {
      "text/html": [
       "<div>\n",
       "<style scoped>\n",
       "    .dataframe tbody tr th:only-of-type {\n",
       "        vertical-align: middle;\n",
       "    }\n",
       "\n",
       "    .dataframe tbody tr th {\n",
       "        vertical-align: top;\n",
       "    }\n",
       "\n",
       "    .dataframe thead th {\n",
       "        text-align: right;\n",
       "    }\n",
       "</style>\n",
       "<table border=\"1\" class=\"dataframe\">\n",
       "  <thead>\n",
       "    <tr style=\"text-align: right;\">\n",
       "      <th></th>\n",
       "      <th>full_date</th>\n",
       "    </tr>\n",
       "  </thead>\n",
       "  <tbody>\n",
       "    <tr>\n",
       "      <th>0</th>\n",
       "      <td>2016-01-01</td>\n",
       "    </tr>\n",
       "    <tr>\n",
       "      <th>1</th>\n",
       "      <td>2016-01-02</td>\n",
       "    </tr>\n",
       "    <tr>\n",
       "      <th>2</th>\n",
       "      <td>2016-01-03</td>\n",
       "    </tr>\n",
       "    <tr>\n",
       "      <th>3</th>\n",
       "      <td>2016-01-04</td>\n",
       "    </tr>\n",
       "    <tr>\n",
       "      <th>4</th>\n",
       "      <td>2016-01-05</td>\n",
       "    </tr>\n",
       "  </tbody>\n",
       "</table>\n",
       "</div>"
      ],
      "text/plain": [
       "   full_date\n",
       "0 2016-01-01\n",
       "1 2016-01-02\n",
       "2 2016-01-03\n",
       "3 2016-01-04\n",
       "4 2016-01-05"
      ]
     },
     "execution_count": 38,
     "metadata": {},
     "output_type": "execute_result"
    }
   ],
   "source": [
    "# our data starts on 2016-01-01\n",
    "start = datetime.datetime(2016,1,1)\n",
    "# generate the remaining days of the year -- leap year!\n",
    "date_col = [start + datetime.timedelta(x) for x in range(366)]\n",
    "# create a dataframe\n",
    "df_date = pd.DataFrame(date_col, dtype='datetime64[ns]')\n",
    "df_date.columns = ['full_date']\n",
    "df_date.head()"
   ]
  },
  {
   "cell_type": "code",
   "execution_count": 39,
   "metadata": {
    "colab": {
     "base_uri": "https://localhost:8080/",
     "height": 204
    },
    "id": "XJHKBBu4a0mL",
    "outputId": "be62be5a-5371-4f42-b5b9-a092730179fe"
   },
   "outputs": [
    {
     "data": {
      "text/html": [
       "<div>\n",
       "<style scoped>\n",
       "    .dataframe tbody tr th:only-of-type {\n",
       "        vertical-align: middle;\n",
       "    }\n",
       "\n",
       "    .dataframe tbody tr th {\n",
       "        vertical-align: top;\n",
       "    }\n",
       "\n",
       "    .dataframe thead th {\n",
       "        text-align: right;\n",
       "    }\n",
       "</style>\n",
       "<table border=\"1\" class=\"dataframe\">\n",
       "  <thead>\n",
       "    <tr style=\"text-align: right;\">\n",
       "      <th></th>\n",
       "      <th>full_date</th>\n",
       "      <th>month</th>\n",
       "      <th>day</th>\n",
       "      <th>month_name</th>\n",
       "      <th>day_name</th>\n",
       "      <th>weekend</th>\n",
       "    </tr>\n",
       "  </thead>\n",
       "  <tbody>\n",
       "    <tr>\n",
       "      <th>0</th>\n",
       "      <td>2016-01-01</td>\n",
       "      <td>1</td>\n",
       "      <td>1</td>\n",
       "      <td>January</td>\n",
       "      <td>Friday</td>\n",
       "      <td>False</td>\n",
       "    </tr>\n",
       "    <tr>\n",
       "      <th>1</th>\n",
       "      <td>2016-01-02</td>\n",
       "      <td>1</td>\n",
       "      <td>2</td>\n",
       "      <td>January</td>\n",
       "      <td>Saturday</td>\n",
       "      <td>True</td>\n",
       "    </tr>\n",
       "    <tr>\n",
       "      <th>2</th>\n",
       "      <td>2016-01-03</td>\n",
       "      <td>1</td>\n",
       "      <td>3</td>\n",
       "      <td>January</td>\n",
       "      <td>Sunday</td>\n",
       "      <td>True</td>\n",
       "    </tr>\n",
       "    <tr>\n",
       "      <th>3</th>\n",
       "      <td>2016-01-04</td>\n",
       "      <td>1</td>\n",
       "      <td>4</td>\n",
       "      <td>January</td>\n",
       "      <td>Monday</td>\n",
       "      <td>False</td>\n",
       "    </tr>\n",
       "    <tr>\n",
       "      <th>4</th>\n",
       "      <td>2016-01-05</td>\n",
       "      <td>1</td>\n",
       "      <td>5</td>\n",
       "      <td>January</td>\n",
       "      <td>Tuesday</td>\n",
       "      <td>False</td>\n",
       "    </tr>\n",
       "  </tbody>\n",
       "</table>\n",
       "</div>"
      ],
      "text/plain": [
       "   full_date  month  day month_name  day_name  weekend\n",
       "0 2016-01-01      1    1    January    Friday    False\n",
       "1 2016-01-02      1    2    January  Saturday     True\n",
       "2 2016-01-03      1    3    January    Sunday     True\n",
       "3 2016-01-04      1    4    January    Monday    False\n",
       "4 2016-01-05      1    5    January   Tuesday    False"
      ]
     },
     "execution_count": 39,
     "metadata": {},
     "output_type": "execute_result"
    }
   ],
   "source": [
    "# generate month and day names\n",
    "df_date['month'] = df_date['full_date'].apply(lambda x: x.month)\n",
    "df_date['day'] = df_date['full_date'].apply(lambda x: x.day)\n",
    "df_date['month_name'] = df_date['full_date'].apply(lambda x: x.strftime('%B'))\n",
    "df_date['day_name'] = df_date['full_date'].apply(lambda x: x.strftime('%A'))\n",
    "df_date['weekend'] = df_date['day_name'].apply(lambda x: 1 if (x == 'Saturday' or x=='Sunday') else 0).astype(bool)\n",
    "df_date.head()"
   ]
  },
  {
   "cell_type": "code",
   "execution_count": 40,
   "metadata": {
    "id": "r6Ru4D6edR01"
   },
   "outputs": [
    {
     "data": {
      "text/html": [
       "<div>\n",
       "<style scoped>\n",
       "    .dataframe tbody tr th:only-of-type {\n",
       "        vertical-align: middle;\n",
       "    }\n",
       "\n",
       "    .dataframe tbody tr th {\n",
       "        vertical-align: top;\n",
       "    }\n",
       "\n",
       "    .dataframe thead th {\n",
       "        text-align: right;\n",
       "    }\n",
       "</style>\n",
       "<table border=\"1\" class=\"dataframe\">\n",
       "  <thead>\n",
       "    <tr style=\"text-align: right;\">\n",
       "      <th></th>\n",
       "      <th>full_date</th>\n",
       "      <th>month</th>\n",
       "      <th>day</th>\n",
       "      <th>month_name</th>\n",
       "      <th>day_name</th>\n",
       "      <th>weekend</th>\n",
       "      <th>financial_qtr</th>\n",
       "    </tr>\n",
       "  </thead>\n",
       "  <tbody>\n",
       "    <tr>\n",
       "      <th>0</th>\n",
       "      <td>2016-01-01</td>\n",
       "      <td>1</td>\n",
       "      <td>1</td>\n",
       "      <td>January</td>\n",
       "      <td>Friday</td>\n",
       "      <td>False</td>\n",
       "      <td>1</td>\n",
       "    </tr>\n",
       "    <tr>\n",
       "      <th>1</th>\n",
       "      <td>2016-01-02</td>\n",
       "      <td>1</td>\n",
       "      <td>2</td>\n",
       "      <td>January</td>\n",
       "      <td>Saturday</td>\n",
       "      <td>True</td>\n",
       "      <td>1</td>\n",
       "    </tr>\n",
       "    <tr>\n",
       "      <th>2</th>\n",
       "      <td>2016-01-03</td>\n",
       "      <td>1</td>\n",
       "      <td>3</td>\n",
       "      <td>January</td>\n",
       "      <td>Sunday</td>\n",
       "      <td>True</td>\n",
       "      <td>1</td>\n",
       "    </tr>\n",
       "    <tr>\n",
       "      <th>3</th>\n",
       "      <td>2016-01-04</td>\n",
       "      <td>1</td>\n",
       "      <td>4</td>\n",
       "      <td>January</td>\n",
       "      <td>Monday</td>\n",
       "      <td>False</td>\n",
       "      <td>1</td>\n",
       "    </tr>\n",
       "    <tr>\n",
       "      <th>4</th>\n",
       "      <td>2016-01-05</td>\n",
       "      <td>1</td>\n",
       "      <td>5</td>\n",
       "      <td>January</td>\n",
       "      <td>Tuesday</td>\n",
       "      <td>False</td>\n",
       "      <td>1</td>\n",
       "    </tr>\n",
       "  </tbody>\n",
       "</table>\n",
       "</div>"
      ],
      "text/plain": [
       "   full_date  month  day month_name  day_name  weekend  financial_qtr\n",
       "0 2016-01-01      1    1    January    Friday    False              1\n",
       "1 2016-01-02      1    2    January  Saturday     True              1\n",
       "2 2016-01-03      1    3    January    Sunday     True              1\n",
       "3 2016-01-04      1    4    January    Monday    False              1\n",
       "4 2016-01-05      1    5    January   Tuesday    False              1"
      ]
     },
     "execution_count": 40,
     "metadata": {},
     "output_type": "execute_result"
    }
   ],
   "source": [
    "# helper function to generate financial quarters\n",
    "def get_quarter(x):\n",
    "    if x <= 3:\n",
    "        return 1\n",
    "    elif x <= 6:\n",
    "        return 2\n",
    "    elif x <= 9:\n",
    "        return 3\n",
    "    else:\n",
    "        return 4        \n",
    "\n",
    "# add financial quarters\n",
    "df_date['financial_qtr'] = df_date['month'].apply(get_quarter)\n",
    "df_date.head()"
   ]
  },
  {
   "cell_type": "markdown",
   "metadata": {},
   "source": [
    "We'll want to use this date dimension table in joins, but joining on date-time columns is risky. Let's add a date key to each of our tables."
   ]
  },
  {
   "cell_type": "code",
   "execution_count": 41,
   "metadata": {
    "colab": {
     "base_uri": "https://localhost:8080/",
     "height": 204
    },
    "id": "PVXsBzovefKZ",
    "outputId": "bc2794bd-432a-4209-f566-b20683ca2bde"
   },
   "outputs": [
    {
     "data": {
      "text/html": [
       "<div>\n",
       "<style scoped>\n",
       "    .dataframe tbody tr th:only-of-type {\n",
       "        vertical-align: middle;\n",
       "    }\n",
       "\n",
       "    .dataframe tbody tr th {\n",
       "        vertical-align: top;\n",
       "    }\n",
       "\n",
       "    .dataframe thead th {\n",
       "        text-align: right;\n",
       "    }\n",
       "</style>\n",
       "<table border=\"1\" class=\"dataframe\">\n",
       "  <thead>\n",
       "    <tr style=\"text-align: right;\">\n",
       "      <th></th>\n",
       "      <th>full_date</th>\n",
       "      <th>month</th>\n",
       "      <th>day</th>\n",
       "      <th>month_name</th>\n",
       "      <th>day_name</th>\n",
       "      <th>weekend</th>\n",
       "      <th>financial_qtr</th>\n",
       "      <th>date_key</th>\n",
       "    </tr>\n",
       "  </thead>\n",
       "  <tbody>\n",
       "    <tr>\n",
       "      <th>0</th>\n",
       "      <td>2016-01-01</td>\n",
       "      <td>1</td>\n",
       "      <td>1</td>\n",
       "      <td>January</td>\n",
       "      <td>Friday</td>\n",
       "      <td>False</td>\n",
       "      <td>1</td>\n",
       "      <td>20160101</td>\n",
       "    </tr>\n",
       "    <tr>\n",
       "      <th>1</th>\n",
       "      <td>2016-01-02</td>\n",
       "      <td>1</td>\n",
       "      <td>2</td>\n",
       "      <td>January</td>\n",
       "      <td>Saturday</td>\n",
       "      <td>True</td>\n",
       "      <td>1</td>\n",
       "      <td>20160102</td>\n",
       "    </tr>\n",
       "    <tr>\n",
       "      <th>2</th>\n",
       "      <td>2016-01-03</td>\n",
       "      <td>1</td>\n",
       "      <td>3</td>\n",
       "      <td>January</td>\n",
       "      <td>Sunday</td>\n",
       "      <td>True</td>\n",
       "      <td>1</td>\n",
       "      <td>20160103</td>\n",
       "    </tr>\n",
       "    <tr>\n",
       "      <th>3</th>\n",
       "      <td>2016-01-04</td>\n",
       "      <td>1</td>\n",
       "      <td>4</td>\n",
       "      <td>January</td>\n",
       "      <td>Monday</td>\n",
       "      <td>False</td>\n",
       "      <td>1</td>\n",
       "      <td>20160104</td>\n",
       "    </tr>\n",
       "    <tr>\n",
       "      <th>4</th>\n",
       "      <td>2016-01-05</td>\n",
       "      <td>1</td>\n",
       "      <td>5</td>\n",
       "      <td>January</td>\n",
       "      <td>Tuesday</td>\n",
       "      <td>False</td>\n",
       "      <td>1</td>\n",
       "      <td>20160105</td>\n",
       "    </tr>\n",
       "  </tbody>\n",
       "</table>\n",
       "</div>"
      ],
      "text/plain": [
       "   full_date  month  day month_name  day_name  weekend  financial_qtr  \\\n",
       "0 2016-01-01      1    1    January    Friday    False              1   \n",
       "1 2016-01-02      1    2    January  Saturday     True              1   \n",
       "2 2016-01-03      1    3    January    Sunday     True              1   \n",
       "3 2016-01-04      1    4    January    Monday    False              1   \n",
       "4 2016-01-05      1    5    January   Tuesday    False              1   \n",
       "\n",
       "   date_key  \n",
       "0  20160101  \n",
       "1  20160102  \n",
       "2  20160103  \n",
       "3  20160104  \n",
       "4  20160105  "
      ]
     },
     "execution_count": 41,
     "metadata": {},
     "output_type": "execute_result"
    }
   ],
   "source": [
    "df_date['date_key'] = df_date['full_date'].apply(lambda x: int(x.strftime('%Y%m%d').strip('-')))\n",
    "df_weather['date_key'] = df_weather['rec_date'].apply(lambda x: int(x.strftime('%Y%m%d').strip('-')))\n",
    "df_bike['date_key'] = df_bike['start_time'].apply(lambda x: int(x.strftime('%Y%m%d').strip('-')))\n",
    "\n",
    "# take a look at the head and tail of the date table\n",
    "df_date.head()"
   ]
  },
  {
   "cell_type": "code",
   "execution_count": 42,
   "metadata": {
    "colab": {
     "base_uri": "https://localhost:8080/",
     "height": 204
    },
    "id": "vlg9YiFtghT3",
    "outputId": "b7f5b02f-ee47-4c79-e65c-f9f7dea0d7af"
   },
   "outputs": [
    {
     "data": {
      "text/html": [
       "<div>\n",
       "<style scoped>\n",
       "    .dataframe tbody tr th:only-of-type {\n",
       "        vertical-align: middle;\n",
       "    }\n",
       "\n",
       "    .dataframe tbody tr th {\n",
       "        vertical-align: top;\n",
       "    }\n",
       "\n",
       "    .dataframe thead th {\n",
       "        text-align: right;\n",
       "    }\n",
       "</style>\n",
       "<table border=\"1\" class=\"dataframe\">\n",
       "  <thead>\n",
       "    <tr style=\"text-align: right;\">\n",
       "      <th></th>\n",
       "      <th>full_date</th>\n",
       "      <th>month</th>\n",
       "      <th>day</th>\n",
       "      <th>month_name</th>\n",
       "      <th>day_name</th>\n",
       "      <th>weekend</th>\n",
       "      <th>financial_qtr</th>\n",
       "      <th>date_key</th>\n",
       "    </tr>\n",
       "  </thead>\n",
       "  <tbody>\n",
       "    <tr>\n",
       "      <th>361</th>\n",
       "      <td>2016-12-27</td>\n",
       "      <td>12</td>\n",
       "      <td>27</td>\n",
       "      <td>December</td>\n",
       "      <td>Tuesday</td>\n",
       "      <td>False</td>\n",
       "      <td>4</td>\n",
       "      <td>20161227</td>\n",
       "    </tr>\n",
       "    <tr>\n",
       "      <th>362</th>\n",
       "      <td>2016-12-28</td>\n",
       "      <td>12</td>\n",
       "      <td>28</td>\n",
       "      <td>December</td>\n",
       "      <td>Wednesday</td>\n",
       "      <td>False</td>\n",
       "      <td>4</td>\n",
       "      <td>20161228</td>\n",
       "    </tr>\n",
       "    <tr>\n",
       "      <th>363</th>\n",
       "      <td>2016-12-29</td>\n",
       "      <td>12</td>\n",
       "      <td>29</td>\n",
       "      <td>December</td>\n",
       "      <td>Thursday</td>\n",
       "      <td>False</td>\n",
       "      <td>4</td>\n",
       "      <td>20161229</td>\n",
       "    </tr>\n",
       "    <tr>\n",
       "      <th>364</th>\n",
       "      <td>2016-12-30</td>\n",
       "      <td>12</td>\n",
       "      <td>30</td>\n",
       "      <td>December</td>\n",
       "      <td>Friday</td>\n",
       "      <td>False</td>\n",
       "      <td>4</td>\n",
       "      <td>20161230</td>\n",
       "    </tr>\n",
       "    <tr>\n",
       "      <th>365</th>\n",
       "      <td>2016-12-31</td>\n",
       "      <td>12</td>\n",
       "      <td>31</td>\n",
       "      <td>December</td>\n",
       "      <td>Saturday</td>\n",
       "      <td>True</td>\n",
       "      <td>4</td>\n",
       "      <td>20161231</td>\n",
       "    </tr>\n",
       "  </tbody>\n",
       "</table>\n",
       "</div>"
      ],
      "text/plain": [
       "     full_date  month  day month_name   day_name  weekend  financial_qtr  \\\n",
       "361 2016-12-27     12   27   December    Tuesday    False              4   \n",
       "362 2016-12-28     12   28   December  Wednesday    False              4   \n",
       "363 2016-12-29     12   29   December   Thursday    False              4   \n",
       "364 2016-12-30     12   30   December     Friday    False              4   \n",
       "365 2016-12-31     12   31   December   Saturday     True              4   \n",
       "\n",
       "     date_key  \n",
       "361  20161227  \n",
       "362  20161228  \n",
       "363  20161229  \n",
       "364  20161230  \n",
       "365  20161231  "
      ]
     },
     "execution_count": 42,
     "metadata": {},
     "output_type": "execute_result"
    }
   ],
   "source": [
    "df_date.tail()"
   ]
  },
  {
   "cell_type": "code",
   "execution_count": 43,
   "metadata": {
    "colab": {
     "base_uri": "https://localhost:8080/"
    },
    "id": "UHX_tNUChTMQ",
    "outputId": "1c6a5193-7695-41e1-f721-1e0c16f54bce"
   },
   "outputs": [
    {
     "data": {
      "text/plain": [
       "full_date        datetime64[ns]\n",
       "month                     int64\n",
       "day                       int64\n",
       "month_name               object\n",
       "day_name                 object\n",
       "weekend                    bool\n",
       "financial_qtr             int64\n",
       "date_key                  int64\n",
       "dtype: object"
      ]
     },
     "execution_count": 43,
     "metadata": {},
     "output_type": "execute_result"
    }
   ],
   "source": [
    "# check data types\n",
    "df_date.dtypes"
   ]
  },
  {
   "cell_type": "markdown",
   "metadata": {},
   "source": [
    "#### Demographics Table"
   ]
  },
  {
   "cell_type": "markdown",
   "metadata": {},
   "source": [
    "Let's create a table for storing demographic information. "
   ]
  },
  {
   "cell_type": "code",
   "execution_count": 44,
   "metadata": {},
   "outputs": [
    {
     "data": {
      "text/html": [
       "<div>\n",
       "<style scoped>\n",
       "    .dataframe tbody tr th:only-of-type {\n",
       "        vertical-align: middle;\n",
       "    }\n",
       "\n",
       "    .dataframe tbody tr th {\n",
       "        vertical-align: top;\n",
       "    }\n",
       "\n",
       "    .dataframe thead th {\n",
       "        text-align: right;\n",
       "    }\n",
       "</style>\n",
       "<table border=\"1\" class=\"dataframe\">\n",
       "  <thead>\n",
       "    <tr style=\"text-align: right;\">\n",
       "      <th></th>\n",
       "      <th>trip_duration</th>\n",
       "      <th>start_time</th>\n",
       "      <th>stop_time</th>\n",
       "      <th>start_station_id</th>\n",
       "      <th>start_station_name</th>\n",
       "      <th>start_station_latitude</th>\n",
       "      <th>start_station_longitude</th>\n",
       "      <th>end_station_id</th>\n",
       "      <th>end_station_name</th>\n",
       "      <th>end_station_latitude</th>\n",
       "      <th>end_station_longitude</th>\n",
       "      <th>bike_id</th>\n",
       "      <th>id</th>\n",
       "      <th>trip_minutes</th>\n",
       "      <th>trip_hours</th>\n",
       "      <th>valid_duration</th>\n",
       "      <th>date_key</th>\n",
       "      <th>trip_demo</th>\n",
       "    </tr>\n",
       "  </thead>\n",
       "  <tbody>\n",
       "    <tr>\n",
       "      <th>0</th>\n",
       "      <td>362</td>\n",
       "      <td>2016-01-01 00:02:52</td>\n",
       "      <td>2016-01-01 00:08:54</td>\n",
       "      <td>3186</td>\n",
       "      <td>Grove St PATH</td>\n",
       "      <td>40.719586</td>\n",
       "      <td>-74.043117</td>\n",
       "      <td>3209</td>\n",
       "      <td>Brunswick St</td>\n",
       "      <td>40.724176</td>\n",
       "      <td>-74.050656</td>\n",
       "      <td>24647</td>\n",
       "      <td>0</td>\n",
       "      <td>6.03</td>\n",
       "      <td>0.10</td>\n",
       "      <td>True</td>\n",
       "      <td>20160101</td>\n",
       "      <td>0</td>\n",
       "    </tr>\n",
       "    <tr>\n",
       "      <th>1</th>\n",
       "      <td>200</td>\n",
       "      <td>2016-01-01 00:18:22</td>\n",
       "      <td>2016-01-01 00:21:42</td>\n",
       "      <td>3186</td>\n",
       "      <td>Grove St PATH</td>\n",
       "      <td>40.719586</td>\n",
       "      <td>-74.043117</td>\n",
       "      <td>3213</td>\n",
       "      <td>Van Vorst Park</td>\n",
       "      <td>40.718489</td>\n",
       "      <td>-74.047727</td>\n",
       "      <td>24605</td>\n",
       "      <td>1</td>\n",
       "      <td>3.33</td>\n",
       "      <td>0.06</td>\n",
       "      <td>True</td>\n",
       "      <td>20160101</td>\n",
       "      <td>1</td>\n",
       "    </tr>\n",
       "    <tr>\n",
       "      <th>2</th>\n",
       "      <td>202</td>\n",
       "      <td>2016-01-01 00:18:25</td>\n",
       "      <td>2016-01-01 00:21:47</td>\n",
       "      <td>3186</td>\n",
       "      <td>Grove St PATH</td>\n",
       "      <td>40.719586</td>\n",
       "      <td>-74.043117</td>\n",
       "      <td>3213</td>\n",
       "      <td>Van Vorst Park</td>\n",
       "      <td>40.718489</td>\n",
       "      <td>-74.047727</td>\n",
       "      <td>24689</td>\n",
       "      <td>2</td>\n",
       "      <td>3.37</td>\n",
       "      <td>0.06</td>\n",
       "      <td>True</td>\n",
       "      <td>20160101</td>\n",
       "      <td>2</td>\n",
       "    </tr>\n",
       "    <tr>\n",
       "      <th>3</th>\n",
       "      <td>248</td>\n",
       "      <td>2016-01-01 00:23:13</td>\n",
       "      <td>2016-01-01 00:27:21</td>\n",
       "      <td>3209</td>\n",
       "      <td>Brunswick St</td>\n",
       "      <td>40.724176</td>\n",
       "      <td>-74.050656</td>\n",
       "      <td>3203</td>\n",
       "      <td>Hamilton Park</td>\n",
       "      <td>40.727596</td>\n",
       "      <td>-74.044247</td>\n",
       "      <td>24693</td>\n",
       "      <td>3</td>\n",
       "      <td>4.13</td>\n",
       "      <td>0.07</td>\n",
       "      <td>True</td>\n",
       "      <td>20160101</td>\n",
       "      <td>3</td>\n",
       "    </tr>\n",
       "    <tr>\n",
       "      <th>4</th>\n",
       "      <td>903</td>\n",
       "      <td>2016-01-01 01:03:20</td>\n",
       "      <td>2016-01-01 01:18:24</td>\n",
       "      <td>3195</td>\n",
       "      <td>Sip Ave</td>\n",
       "      <td>40.730743</td>\n",
       "      <td>-74.063784</td>\n",
       "      <td>3210</td>\n",
       "      <td>Pershing Field</td>\n",
       "      <td>40.742677</td>\n",
       "      <td>-74.051789</td>\n",
       "      <td>24573</td>\n",
       "      <td>4</td>\n",
       "      <td>15.05</td>\n",
       "      <td>0.25</td>\n",
       "      <td>True</td>\n",
       "      <td>20160101</td>\n",
       "      <td>4</td>\n",
       "    </tr>\n",
       "  </tbody>\n",
       "</table>\n",
       "</div>"
      ],
      "text/plain": [
       "   trip_duration          start_time           stop_time  start_station_id  \\\n",
       "0            362 2016-01-01 00:02:52 2016-01-01 00:08:54              3186   \n",
       "1            200 2016-01-01 00:18:22 2016-01-01 00:21:42              3186   \n",
       "2            202 2016-01-01 00:18:25 2016-01-01 00:21:47              3186   \n",
       "3            248 2016-01-01 00:23:13 2016-01-01 00:27:21              3209   \n",
       "4            903 2016-01-01 01:03:20 2016-01-01 01:18:24              3195   \n",
       "\n",
       "  start_station_name  start_station_latitude  start_station_longitude  \\\n",
       "0      Grove St PATH               40.719586               -74.043117   \n",
       "1      Grove St PATH               40.719586               -74.043117   \n",
       "2      Grove St PATH               40.719586               -74.043117   \n",
       "3       Brunswick St               40.724176               -74.050656   \n",
       "4            Sip Ave               40.730743               -74.063784   \n",
       "\n",
       "   end_station_id end_station_name  end_station_latitude  \\\n",
       "0            3209     Brunswick St             40.724176   \n",
       "1            3213   Van Vorst Park             40.718489   \n",
       "2            3213   Van Vorst Park             40.718489   \n",
       "3            3203    Hamilton Park             40.727596   \n",
       "4            3210   Pershing Field             40.742677   \n",
       "\n",
       "   end_station_longitude  bike_id  id  trip_minutes  trip_hours  \\\n",
       "0             -74.050656    24647   0          6.03        0.10   \n",
       "1             -74.047727    24605   1          3.33        0.06   \n",
       "2             -74.047727    24689   2          3.37        0.06   \n",
       "3             -74.044247    24693   3          4.13        0.07   \n",
       "4             -74.051789    24573   4         15.05        0.25   \n",
       "\n",
       "   valid_duration  date_key  trip_demo  \n",
       "0            True  20160101          0  \n",
       "1            True  20160101          1  \n",
       "2            True  20160101          2  \n",
       "3            True  20160101          3  \n",
       "4            True  20160101          4  "
      ]
     },
     "execution_count": 44,
     "metadata": {},
     "output_type": "execute_result"
    }
   ],
   "source": [
    "# create a demographics table with all the unique demographics in the original dataset\n",
    "trip_demo = df_bike[['user_type','birth_year','gender','age']].drop_duplicates(subset=['user_type','birth_year','gender']).reset_index(drop=True)\n",
    "trip_demo['trip_demo'] = trip_demo.index\n",
    "\n",
    "# add the trip_demo key to a rides table\n",
    "rides = df_bike.merge(trip_demo, on=['user_type','birth_year','gender','age']).sort_values(by='id').reset_index(drop=True)\n",
    "\n",
    "# drop the demographic info from rides\n",
    "rides = rides.drop(['user_type','birth_year','gender','age'],axis=1)\n",
    "\n",
    "rides.head()"
   ]
  },
  {
   "cell_type": "markdown",
   "metadata": {},
   "source": [
    "Because we've created a new key, let's double check that merging with the demographics table reproduces the original dataframe."
   ]
  },
  {
   "cell_type": "code",
   "execution_count": 45,
   "metadata": {},
   "outputs": [
    {
     "data": {
      "text/plain": [
       "age                        0\n",
       "bike_id                    0\n",
       "birth_year                 0\n",
       "date_key                   0\n",
       "end_station_id             0\n",
       "end_station_latitude       0\n",
       "end_station_longitude      0\n",
       "end_station_name           0\n",
       "gender                     0\n",
       "id                         0\n",
       "start_station_id           0\n",
       "start_station_latitude     0\n",
       "start_station_longitude    0\n",
       "start_station_name         0\n",
       "start_time                 0\n",
       "stop_time                  0\n",
       "trip_duration              0\n",
       "trip_hours                 0\n",
       "trip_minutes               0\n",
       "user_type                  0\n",
       "valid_duration             0\n",
       "dtype: int64"
      ]
     },
     "execution_count": 45,
     "metadata": {},
     "output_type": "execute_result"
    }
   ],
   "source": [
    "# first merge the two tables and\n",
    "# - sort by ID to match df_bike's sorting\n",
    "# - reset the index to match df_bike's index\n",
    "# - drop the trip_demo join key\n",
    "ridesmerge = rides.merge(trip_demo,on='trip_demo').sort_values(by='id').reset_index(drop=True).drop('trip_demo',axis=1)\n",
    "\n",
    "# count the number of positions where ridesmerge is different from df_bike\n",
    "# note that NaN != NaN, so we also need to make sure at least one isn't NaN\n",
    "(df_bike.ne(ridesmerge) & (df_bike.notna() | ridesmerge.notna())).sum()"
   ]
  },
  {
   "cell_type": "code",
   "execution_count": 46,
   "metadata": {},
   "outputs": [
    {
     "data": {
      "text/html": [
       "<div>\n",
       "<style scoped>\n",
       "    .dataframe tbody tr th:only-of-type {\n",
       "        vertical-align: middle;\n",
       "    }\n",
       "\n",
       "    .dataframe tbody tr th {\n",
       "        vertical-align: top;\n",
       "    }\n",
       "\n",
       "    .dataframe thead th {\n",
       "        text-align: right;\n",
       "    }\n",
       "</style>\n",
       "<table border=\"1\" class=\"dataframe\">\n",
       "  <thead>\n",
       "    <tr style=\"text-align: right;\">\n",
       "      <th></th>\n",
       "      <th>user_type</th>\n",
       "      <th>birth_year</th>\n",
       "      <th>gender</th>\n",
       "      <th>age</th>\n",
       "      <th>id</th>\n",
       "    </tr>\n",
       "  </thead>\n",
       "  <tbody>\n",
       "    <tr>\n",
       "      <th>0</th>\n",
       "      <td>Subscriber</td>\n",
       "      <td>1964.0</td>\n",
       "      <td>2</td>\n",
       "      <td>52.0</td>\n",
       "      <td>0</td>\n",
       "    </tr>\n",
       "    <tr>\n",
       "      <th>1</th>\n",
       "      <td>Subscriber</td>\n",
       "      <td>1962.0</td>\n",
       "      <td>1</td>\n",
       "      <td>54.0</td>\n",
       "      <td>1</td>\n",
       "    </tr>\n",
       "    <tr>\n",
       "      <th>2</th>\n",
       "      <td>Subscriber</td>\n",
       "      <td>1962.0</td>\n",
       "      <td>2</td>\n",
       "      <td>54.0</td>\n",
       "      <td>2</td>\n",
       "    </tr>\n",
       "    <tr>\n",
       "      <th>3</th>\n",
       "      <td>Subscriber</td>\n",
       "      <td>1984.0</td>\n",
       "      <td>1</td>\n",
       "      <td>32.0</td>\n",
       "      <td>3</td>\n",
       "    </tr>\n",
       "    <tr>\n",
       "      <th>4</th>\n",
       "      <td>Customer</td>\n",
       "      <td>NaN</td>\n",
       "      <td>0</td>\n",
       "      <td>NaN</td>\n",
       "      <td>4</td>\n",
       "    </tr>\n",
       "  </tbody>\n",
       "</table>\n",
       "</div>"
      ],
      "text/plain": [
       "    user_type  birth_year  gender   age  id\n",
       "0  Subscriber      1964.0       2  52.0   0\n",
       "1  Subscriber      1962.0       1  54.0   1\n",
       "2  Subscriber      1962.0       2  54.0   2\n",
       "3  Subscriber      1984.0       1  32.0   3\n",
       "4    Customer         NaN       0   NaN   4"
      ]
     },
     "execution_count": 46,
     "metadata": {},
     "output_type": "execute_result"
    }
   ],
   "source": [
    "# change the name of the trip_demo id column for the database\n",
    "trip_demo.rename(columns={'trip_demo':'id'}, inplace=True)\n",
    "trip_demo.head()"
   ]
  },
  {
   "cell_type": "markdown",
   "metadata": {},
   "source": [
    "#### Station Table"
   ]
  },
  {
   "cell_type": "markdown",
   "metadata": {},
   "source": [
    "Let's create a table of stations. These already have IDs, so we just need to create a new table with station id, name, latitude, and longitude. The easiest way to make sure we have all the necessary records is simply to make a table of all possible station records and drop duplicates."
   ]
  },
  {
   "cell_type": "code",
   "execution_count": 47,
   "metadata": {},
   "outputs": [
    {
     "data": {
      "text/html": [
       "<div>\n",
       "<style scoped>\n",
       "    .dataframe tbody tr th:only-of-type {\n",
       "        vertical-align: middle;\n",
       "    }\n",
       "\n",
       "    .dataframe tbody tr th {\n",
       "        vertical-align: top;\n",
       "    }\n",
       "\n",
       "    .dataframe thead th {\n",
       "        text-align: right;\n",
       "    }\n",
       "</style>\n",
       "<table border=\"1\" class=\"dataframe\">\n",
       "  <thead>\n",
       "    <tr style=\"text-align: right;\">\n",
       "      <th></th>\n",
       "      <th>trip_duration</th>\n",
       "      <th>start_time</th>\n",
       "      <th>stop_time</th>\n",
       "      <th>start_station_id</th>\n",
       "      <th>end_station_id</th>\n",
       "      <th>bike_id</th>\n",
       "      <th>id</th>\n",
       "      <th>trip_minutes</th>\n",
       "      <th>trip_hours</th>\n",
       "      <th>valid_duration</th>\n",
       "      <th>date_key</th>\n",
       "      <th>trip_demo</th>\n",
       "    </tr>\n",
       "  </thead>\n",
       "  <tbody>\n",
       "    <tr>\n",
       "      <th>0</th>\n",
       "      <td>362</td>\n",
       "      <td>2016-01-01 00:02:52</td>\n",
       "      <td>2016-01-01 00:08:54</td>\n",
       "      <td>3186</td>\n",
       "      <td>3209</td>\n",
       "      <td>24647</td>\n",
       "      <td>0</td>\n",
       "      <td>6.03</td>\n",
       "      <td>0.10</td>\n",
       "      <td>True</td>\n",
       "      <td>20160101</td>\n",
       "      <td>0</td>\n",
       "    </tr>\n",
       "    <tr>\n",
       "      <th>1</th>\n",
       "      <td>200</td>\n",
       "      <td>2016-01-01 00:18:22</td>\n",
       "      <td>2016-01-01 00:21:42</td>\n",
       "      <td>3186</td>\n",
       "      <td>3213</td>\n",
       "      <td>24605</td>\n",
       "      <td>1</td>\n",
       "      <td>3.33</td>\n",
       "      <td>0.06</td>\n",
       "      <td>True</td>\n",
       "      <td>20160101</td>\n",
       "      <td>1</td>\n",
       "    </tr>\n",
       "    <tr>\n",
       "      <th>2</th>\n",
       "      <td>202</td>\n",
       "      <td>2016-01-01 00:18:25</td>\n",
       "      <td>2016-01-01 00:21:47</td>\n",
       "      <td>3186</td>\n",
       "      <td>3213</td>\n",
       "      <td>24689</td>\n",
       "      <td>2</td>\n",
       "      <td>3.37</td>\n",
       "      <td>0.06</td>\n",
       "      <td>True</td>\n",
       "      <td>20160101</td>\n",
       "      <td>2</td>\n",
       "    </tr>\n",
       "    <tr>\n",
       "      <th>3</th>\n",
       "      <td>248</td>\n",
       "      <td>2016-01-01 00:23:13</td>\n",
       "      <td>2016-01-01 00:27:21</td>\n",
       "      <td>3209</td>\n",
       "      <td>3203</td>\n",
       "      <td>24693</td>\n",
       "      <td>3</td>\n",
       "      <td>4.13</td>\n",
       "      <td>0.07</td>\n",
       "      <td>True</td>\n",
       "      <td>20160101</td>\n",
       "      <td>3</td>\n",
       "    </tr>\n",
       "    <tr>\n",
       "      <th>4</th>\n",
       "      <td>903</td>\n",
       "      <td>2016-01-01 01:03:20</td>\n",
       "      <td>2016-01-01 01:18:24</td>\n",
       "      <td>3195</td>\n",
       "      <td>3210</td>\n",
       "      <td>24573</td>\n",
       "      <td>4</td>\n",
       "      <td>15.05</td>\n",
       "      <td>0.25</td>\n",
       "      <td>True</td>\n",
       "      <td>20160101</td>\n",
       "      <td>4</td>\n",
       "    </tr>\n",
       "  </tbody>\n",
       "</table>\n",
       "</div>"
      ],
      "text/plain": [
       "   trip_duration          start_time           stop_time  start_station_id  \\\n",
       "0            362 2016-01-01 00:02:52 2016-01-01 00:08:54              3186   \n",
       "1            200 2016-01-01 00:18:22 2016-01-01 00:21:42              3186   \n",
       "2            202 2016-01-01 00:18:25 2016-01-01 00:21:47              3186   \n",
       "3            248 2016-01-01 00:23:13 2016-01-01 00:27:21              3209   \n",
       "4            903 2016-01-01 01:03:20 2016-01-01 01:18:24              3195   \n",
       "\n",
       "   end_station_id  bike_id  id  trip_minutes  trip_hours  valid_duration  \\\n",
       "0            3209    24647   0          6.03        0.10            True   \n",
       "1            3213    24605   1          3.33        0.06            True   \n",
       "2            3213    24689   2          3.37        0.06            True   \n",
       "3            3203    24693   3          4.13        0.07            True   \n",
       "4            3210    24573   4         15.05        0.25            True   \n",
       "\n",
       "   date_key  trip_demo  \n",
       "0  20160101          0  \n",
       "1  20160101          1  \n",
       "2  20160101          2  \n",
       "3  20160101          3  \n",
       "4  20160101          4  "
      ]
     },
     "execution_count": 47,
     "metadata": {},
     "output_type": "execute_result"
    }
   ],
   "source": [
    "# create tables of start stations and end stations\n",
    "starts = rides[['start_station_id','start_station_name','start_station_latitude','start_station_longitude']]\n",
    "ends = rides[['end_station_id','end_station_name','end_station_latitude','end_station_longitude']]\n",
    "\n",
    "# rename so both start and end dataframes have the same column names\n",
    "starts.columns = ['id','station_name','latitude','longitude']\n",
    "ends.columns = ['id','station_name','latitude','longitude']\n",
    "\n",
    "# concatenate and drop duplicates\n",
    "stations = pd.concat([starts,ends]).drop_duplicates()\n",
    "\n",
    "# drop station names and locations from rides\n",
    "rides = rides.drop(['start_station_name','start_station_latitude','start_station_longitude','end_station_name','end_station_latitude','end_station_longitude'],axis=1)\n",
    "\n",
    "rides.head()"
   ]
  },
  {
   "cell_type": "code",
   "execution_count": 48,
   "metadata": {},
   "outputs": [
    {
     "data": {
      "text/html": [
       "<div>\n",
       "<style scoped>\n",
       "    .dataframe tbody tr th:only-of-type {\n",
       "        vertical-align: middle;\n",
       "    }\n",
       "\n",
       "    .dataframe tbody tr th {\n",
       "        vertical-align: top;\n",
       "    }\n",
       "\n",
       "    .dataframe thead th {\n",
       "        text-align: right;\n",
       "    }\n",
       "</style>\n",
       "<table border=\"1\" class=\"dataframe\">\n",
       "  <thead>\n",
       "    <tr style=\"text-align: right;\">\n",
       "      <th></th>\n",
       "      <th>id</th>\n",
       "      <th>station_name</th>\n",
       "      <th>latitude</th>\n",
       "      <th>longitude</th>\n",
       "    </tr>\n",
       "  </thead>\n",
       "  <tbody>\n",
       "    <tr>\n",
       "      <th>0</th>\n",
       "      <td>3186</td>\n",
       "      <td>Grove St PATH</td>\n",
       "      <td>40.719586</td>\n",
       "      <td>-74.043117</td>\n",
       "    </tr>\n",
       "    <tr>\n",
       "      <th>3</th>\n",
       "      <td>3209</td>\n",
       "      <td>Brunswick St</td>\n",
       "      <td>40.724176</td>\n",
       "      <td>-74.050656</td>\n",
       "    </tr>\n",
       "    <tr>\n",
       "      <th>4</th>\n",
       "      <td>3195</td>\n",
       "      <td>Sip Ave</td>\n",
       "      <td>40.730743</td>\n",
       "      <td>-74.063784</td>\n",
       "    </tr>\n",
       "    <tr>\n",
       "      <th>7</th>\n",
       "      <td>3211</td>\n",
       "      <td>Newark Ave</td>\n",
       "      <td>40.721525</td>\n",
       "      <td>-74.046305</td>\n",
       "    </tr>\n",
       "    <tr>\n",
       "      <th>8</th>\n",
       "      <td>3187</td>\n",
       "      <td>Warren St</td>\n",
       "      <td>40.721124</td>\n",
       "      <td>-74.038051</td>\n",
       "    </tr>\n",
       "  </tbody>\n",
       "</table>\n",
       "</div>"
      ],
      "text/plain": [
       "     id   station_name   latitude  longitude\n",
       "0  3186  Grove St PATH  40.719586 -74.043117\n",
       "3  3209   Brunswick St  40.724176 -74.050656\n",
       "4  3195        Sip Ave  40.730743 -74.063784\n",
       "7  3211     Newark Ave  40.721525 -74.046305\n",
       "8  3187      Warren St  40.721124 -74.038051"
      ]
     },
     "execution_count": 48,
     "metadata": {},
     "output_type": "execute_result"
    }
   ],
   "source": [
    "stations.head()"
   ]
  },
  {
   "cell_type": "markdown",
   "metadata": {
    "id": "Plz5ccUOg3EA"
   },
   "source": [
    "#### Weather Table"
   ]
  },
  {
   "cell_type": "markdown",
   "metadata": {},
   "source": [
    "There's nothing specific to change here!"
   ]
  },
  {
   "cell_type": "code",
   "execution_count": 49,
   "metadata": {},
   "outputs": [
    {
     "data": {
      "text/html": [
       "<div>\n",
       "<style scoped>\n",
       "    .dataframe tbody tr th:only-of-type {\n",
       "        vertical-align: middle;\n",
       "    }\n",
       "\n",
       "    .dataframe tbody tr th {\n",
       "        vertical-align: top;\n",
       "    }\n",
       "\n",
       "    .dataframe thead th {\n",
       "        text-align: right;\n",
       "    }\n",
       "</style>\n",
       "<table border=\"1\" class=\"dataframe\">\n",
       "  <thead>\n",
       "    <tr style=\"text-align: right;\">\n",
       "      <th></th>\n",
       "      <th>rec_date</th>\n",
       "      <th>avg_wind</th>\n",
       "      <th>prcp</th>\n",
       "      <th>snow_amt</th>\n",
       "      <th>snow_depth</th>\n",
       "      <th>tavg</th>\n",
       "      <th>tmax</th>\n",
       "      <th>tmin</th>\n",
       "      <th>rain</th>\n",
       "      <th>snow</th>\n",
       "      <th>date_key</th>\n",
       "    </tr>\n",
       "  </thead>\n",
       "  <tbody>\n",
       "    <tr>\n",
       "      <th>0</th>\n",
       "      <td>2016-01-01</td>\n",
       "      <td>12.75</td>\n",
       "      <td>0.0</td>\n",
       "      <td>0.0</td>\n",
       "      <td>0.0</td>\n",
       "      <td>41</td>\n",
       "      <td>43</td>\n",
       "      <td>34</td>\n",
       "      <td>False</td>\n",
       "      <td>False</td>\n",
       "      <td>20160101</td>\n",
       "    </tr>\n",
       "    <tr>\n",
       "      <th>1</th>\n",
       "      <td>2016-01-02</td>\n",
       "      <td>9.40</td>\n",
       "      <td>0.0</td>\n",
       "      <td>0.0</td>\n",
       "      <td>0.0</td>\n",
       "      <td>36</td>\n",
       "      <td>42</td>\n",
       "      <td>30</td>\n",
       "      <td>False</td>\n",
       "      <td>False</td>\n",
       "      <td>20160102</td>\n",
       "    </tr>\n",
       "    <tr>\n",
       "      <th>2</th>\n",
       "      <td>2016-01-03</td>\n",
       "      <td>10.29</td>\n",
       "      <td>0.0</td>\n",
       "      <td>0.0</td>\n",
       "      <td>0.0</td>\n",
       "      <td>37</td>\n",
       "      <td>47</td>\n",
       "      <td>28</td>\n",
       "      <td>False</td>\n",
       "      <td>False</td>\n",
       "      <td>20160103</td>\n",
       "    </tr>\n",
       "    <tr>\n",
       "      <th>3</th>\n",
       "      <td>2016-01-04</td>\n",
       "      <td>17.22</td>\n",
       "      <td>0.0</td>\n",
       "      <td>0.0</td>\n",
       "      <td>0.0</td>\n",
       "      <td>32</td>\n",
       "      <td>35</td>\n",
       "      <td>14</td>\n",
       "      <td>False</td>\n",
       "      <td>False</td>\n",
       "      <td>20160104</td>\n",
       "    </tr>\n",
       "    <tr>\n",
       "      <th>4</th>\n",
       "      <td>2016-01-05</td>\n",
       "      <td>9.84</td>\n",
       "      <td>0.0</td>\n",
       "      <td>0.0</td>\n",
       "      <td>0.0</td>\n",
       "      <td>19</td>\n",
       "      <td>31</td>\n",
       "      <td>10</td>\n",
       "      <td>False</td>\n",
       "      <td>False</td>\n",
       "      <td>20160105</td>\n",
       "    </tr>\n",
       "  </tbody>\n",
       "</table>\n",
       "</div>"
      ],
      "text/plain": [
       "    rec_date  avg_wind  prcp  snow_amt  snow_depth  tavg  tmax  tmin   rain  \\\n",
       "0 2016-01-01     12.75   0.0       0.0         0.0    41    43    34  False   \n",
       "1 2016-01-02      9.40   0.0       0.0         0.0    36    42    30  False   \n",
       "2 2016-01-03     10.29   0.0       0.0         0.0    37    47    28  False   \n",
       "3 2016-01-04     17.22   0.0       0.0         0.0    32    35    14  False   \n",
       "4 2016-01-05      9.84   0.0       0.0         0.0    19    31    10  False   \n",
       "\n",
       "    snow  date_key  \n",
       "0  False  20160101  \n",
       "1  False  20160102  \n",
       "2  False  20160103  \n",
       "3  False  20160104  \n",
       "4  False  20160105  "
      ]
     },
     "execution_count": 49,
     "metadata": {},
     "output_type": "execute_result"
    }
   ],
   "source": [
    "df_weather.head()"
   ]
  },
  {
   "cell_type": "markdown",
   "metadata": {
    "id": "YeBEN_Xdis3U"
   },
   "source": [
    "### Sqlalchemy and Database Code"
   ]
  },
  {
   "cell_type": "markdown",
   "metadata": {
    "id": "DlZ0wqwyc1gl"
   },
   "source": [
    "Steps:\n",
    "1. Create the database (e.g. using Postbird)\n",
    "2. Run the create table queries from `tables.sql` (e.g. using Postbird)\n",
    "3. Insert the data below\n",
    "4. Run the create view queries from `views.sql`\n",
    "\n",
    "Note that the order is important: the foreign key constraints in the database schema require referenced tables to exist before the main rides table."
   ]
  },
  {
   "cell_type": "code",
   "execution_count": 50,
   "metadata": {
    "id": "3Glza0qGg3EA"
   },
   "outputs": [],
   "source": [
    "# create a connection to the database\n",
    "#url = 'postgresql+psycopg2://user_name@host_name:port_number/database_name' \n",
    "# replace with the appropriate values for your system\n",
    "\n",
    "engine = sqlalchemy.create_engine('postgresql://localhost/citibike')\n",
    "con = engine.connect()\n",
    "df_date.to_sql('date_dim', con, if_exists='append',index=False,chunksize=10000)\n",
    "stations.to_sql('stations', con, if_exists='append',index=False,chunksize=10000)\n",
    "trip_demo.to_sql('trip_demo', con, if_exists='append',index=False,chunksize=10000)\n",
    "df_weather.to_sql('weather', con, if_exists='append',index=False,chunksize=10000)\n",
    "rides.to_sql('rides', con, if_exists='append',index=False,chunksize=10000)\n",
    "\n",
    "con.close()"
   ]
  },
  {
   "cell_type": "code",
   "execution_count": null,
   "metadata": {},
   "outputs": [],
   "source": []
  }
 ],
 "metadata": {
  "colab": {
   "collapsed_sections": [],
   "name": "citibike_jc_final.ipynb",
   "provenance": [],
   "toc_visible": true
  },
  "gpuClass": "standard",
  "kernelspec": {
   "display_name": "Python 3 (ipykernel)",
   "language": "python",
   "name": "python3"
  },
  "language_info": {
   "codemirror_mode": {
    "name": "ipython",
    "version": 3
   },
   "file_extension": ".py",
   "mimetype": "text/x-python",
   "name": "python",
   "nbconvert_exporter": "python",
   "pygments_lexer": "ipython3",
   "version": "3.9.12"
  }
 },
 "nbformat": 4,
 "nbformat_minor": 4
}
